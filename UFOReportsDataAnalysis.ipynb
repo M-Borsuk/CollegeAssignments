{
  "nbformat": 4,
  "nbformat_minor": 0,
  "metadata": {
    "colab": {
      "name": "UFOReportsDataAnalysis.ipynb",
      "provenance": [],
      "mount_file_id": "1A0iiRwz0i8NyIVo4wbi0-AzAS_fCoPJa",
      "authorship_tag": "ABX9TyMaHZebSFhrxm0+7K834Tf2",
      "include_colab_link": true
    },
    "kernelspec": {
      "name": "python3",
      "display_name": "Python 3"
    }
  },
  "cells": [
    {
      "cell_type": "markdown",
      "metadata": {
        "id": "view-in-github",
        "colab_type": "text"
      },
      "source": [
        "<a href=\"https://colab.research.google.com/github/M-Borsuk/CollegeAssignments/blob/main/UFOReportsDataAnalysis.ipynb\" target=\"_parent\"><img src=\"https://colab.research.google.com/assets/colab-badge.svg\" alt=\"Open In Colab\"/></a>"
      ]
    },
    {
      "cell_type": "code",
      "metadata": {
        "id": "6S9TTzp3J6mK"
      },
      "source": [
        "import pandas as pd\n",
        "import datetime"
      ],
      "execution_count": 241,
      "outputs": []
    },
    {
      "cell_type": "code",
      "metadata": {
        "colab": {
          "base_uri": "https://localhost:8080/"
        },
        "id": "J2vYSGOTKmaK",
        "outputId": "59bbece5-2dbe-4b1c-c654-4118f8a62ec3"
      },
      "source": [
        "df = pd.read_csv(\"/content/drive/MyDrive/ufo_report.tsv\",sep=\"\\t\",header=None,error_bad_lines=False)"
      ],
      "execution_count": 242,
      "outputs": [
        {
          "output_type": "stream",
          "text": [
            "b'Skipping line 755: expected 6 fields, saw 7\\nSkipping line 1167: expected 6 fields, saw 7\\nSkipping line 1569: expected 6 fields, saw 13\\nSkipping line 1571: expected 6 fields, saw 7\\nSkipping line 1659: expected 6 fields, saw 10\\nSkipping line 1951: expected 6 fields, saw 7\\nSkipping line 2077: expected 6 fields, saw 12\\nSkipping line 2382: expected 6 fields, saw 11\\nSkipping line 2753: expected 6 fields, saw 8\\nSkipping line 3076: expected 6 fields, saw 13\\nSkipping line 3218: expected 6 fields, saw 8\\nSkipping line 3238: expected 6 fields, saw 7\\nSkipping line 3346: expected 6 fields, saw 7\\nSkipping line 3453: expected 6 fields, saw 8\\nSkipping line 3513: expected 6 fields, saw 7\\nSkipping line 3571: expected 6 fields, saw 7\\nSkipping line 3632: expected 6 fields, saw 8\\nSkipping line 3718: expected 6 fields, saw 7\\nSkipping line 3814: expected 6 fields, saw 9\\nSkipping line 4607: expected 6 fields, saw 10\\nSkipping line 4627: expected 6 fields, saw 9\\nSkipping line 4666: expected 6 fields, saw 8\\nSkipping line 4996: expected 6 fields, saw 7\\nSkipping line 5357: expected 6 fields, saw 7\\nSkipping line 5371: expected 6 fields, saw 8\\nSkipping line 5531: expected 6 fields, saw 7\\nSkipping line 5686: expected 6 fields, saw 8\\nSkipping line 5919: expected 6 fields, saw 8\\nSkipping line 5927: expected 6 fields, saw 8\\nSkipping line 5988: expected 6 fields, saw 8\\nSkipping line 6043: expected 6 fields, saw 7\\nSkipping line 6337: expected 6 fields, saw 7\\nSkipping line 6403: expected 6 fields, saw 7\\nSkipping line 6646: expected 6 fields, saw 7\\nSkipping line 6803: expected 6 fields, saw 7\\nSkipping line 6924: expected 6 fields, saw 7\\nSkipping line 7341: expected 6 fields, saw 7\\nSkipping line 7736: expected 6 fields, saw 7\\nSkipping line 7737: expected 6 fields, saw 7\\nSkipping line 7834: expected 6 fields, saw 7\\nSkipping line 8177: expected 6 fields, saw 9\\nSkipping line 8470: expected 6 fields, saw 7\\nSkipping line 8539: expected 6 fields, saw 7\\nSkipping line 8546: expected 6 fields, saw 10\\nSkipping line 8815: expected 6 fields, saw 8\\nSkipping line 9014: expected 6 fields, saw 9\\nSkipping line 9043: expected 6 fields, saw 7\\nSkipping line 9155: expected 6 fields, saw 7\\nSkipping line 9350: expected 6 fields, saw 11\\nSkipping line 9400: expected 6 fields, saw 16\\nSkipping line 9533: expected 6 fields, saw 14\\nSkipping line 10060: expected 6 fields, saw 9\\nSkipping line 10219: expected 6 fields, saw 7\\nSkipping line 10820: expected 6 fields, saw 26\\nSkipping line 10953: expected 6 fields, saw 7\\nSkipping line 11035: expected 6 fields, saw 8\\nSkipping line 11671: expected 6 fields, saw 7\\nSkipping line 12155: expected 6 fields, saw 7\\nSkipping line 12324: expected 6 fields, saw 7\\nSkipping line 12464: expected 6 fields, saw 10\\nSkipping line 13600: expected 6 fields, saw 8\\nSkipping line 14799: expected 6 fields, saw 7\\nSkipping line 14923: expected 6 fields, saw 11\\nSkipping line 15026: expected 6 fields, saw 7\\nSkipping line 16147: expected 6 fields, saw 8\\nSkipping line 16865: expected 6 fields, saw 10\\nSkipping line 17307: expected 6 fields, saw 28\\nSkipping line 17619: expected 6 fields, saw 28\\nSkipping line 17644: expected 6 fields, saw 7\\nSkipping line 19515: expected 6 fields, saw 7\\nSkipping line 22182: expected 6 fields, saw 10\\nSkipping line 22600: expected 6 fields, saw 13\\nSkipping line 25163: expected 6 fields, saw 7\\nSkipping line 26619: expected 6 fields, saw 14\\nSkipping line 27120: expected 6 fields, saw 7\\nSkipping line 27230: expected 6 fields, saw 7\\nSkipping line 27394: expected 6 fields, saw 34\\nSkipping line 30609: expected 6 fields, saw 118\\nSkipping line 31120: expected 6 fields, saw 7\\nSkipping line 32439: expected 6 fields, saw 33\\nSkipping line 33087: expected 6 fields, saw 9\\nSkipping line 34733: expected 6 fields, saw 13\\nSkipping line 35622: expected 6 fields, saw 9\\nSkipping line 35943: expected 6 fields, saw 14\\nSkipping line 35993: expected 6 fields, saw 7\\nSkipping line 36007: expected 6 fields, saw 7\\nSkipping line 36111: expected 6 fields, saw 7\\nSkipping line 37201: expected 6 fields, saw 7\\nSkipping line 37330: expected 6 fields, saw 7\\nSkipping line 37657: expected 6 fields, saw 7\\nSkipping line 38386: expected 6 fields, saw 12\\nSkipping line 38636: expected 6 fields, saw 8\\nSkipping line 39533: expected 6 fields, saw 7\\nSkipping line 39639: expected 6 fields, saw 29\\nSkipping line 39910: expected 6 fields, saw 15\\nSkipping line 40214: expected 6 fields, saw 12\\nSkipping line 40446: expected 6 fields, saw 7\\nSkipping line 40540: expected 6 fields, saw 7\\nSkipping line 40547: expected 6 fields, saw 11\\nSkipping line 40677: expected 6 fields, saw 11\\nSkipping line 40899: expected 6 fields, saw 7\\nSkipping line 40960: expected 6 fields, saw 36\\nSkipping line 41034: expected 6 fields, saw 8\\nSkipping line 41185: expected 6 fields, saw 7\\nSkipping line 41461: expected 6 fields, saw 10\\nSkipping line 41486: expected 6 fields, saw 8\\nSkipping line 41497: expected 6 fields, saw 12\\nSkipping line 41509: expected 6 fields, saw 7\\nSkipping line 41542: expected 6 fields, saw 10\\nSkipping line 41549: expected 6 fields, saw 8\\nSkipping line 41625: expected 6 fields, saw 8\\nSkipping line 41739: expected 6 fields, saw 10\\nSkipping line 41812: expected 6 fields, saw 13\\nSkipping line 41860: expected 6 fields, saw 8\\nSkipping line 41903: expected 6 fields, saw 7\\nSkipping line 41930: expected 6 fields, saw 13\\nSkipping line 42058: expected 6 fields, saw 7\\nSkipping line 42072: expected 6 fields, saw 23\\nSkipping line 42105: expected 6 fields, saw 8\\nSkipping line 42133: expected 6 fields, saw 7\\nSkipping line 42165: expected 6 fields, saw 10\\nSkipping line 42293: expected 6 fields, saw 13\\nSkipping line 42344: expected 6 fields, saw 9\\nSkipping line 42361: expected 6 fields, saw 15\\nSkipping line 42370: expected 6 fields, saw 8\\nSkipping line 42379: expected 6 fields, saw 9\\nSkipping line 42496: expected 6 fields, saw 7\\nSkipping line 42523: expected 6 fields, saw 10\\nSkipping line 42546: expected 6 fields, saw 10\\nSkipping line 42547: expected 6 fields, saw 10\\nSkipping line 42565: expected 6 fields, saw 8\\nSkipping line 42570: expected 6 fields, saw 15\\nSkipping line 42587: expected 6 fields, saw 9\\nSkipping line 42608: expected 6 fields, saw 13\\nSkipping line 42655: expected 6 fields, saw 10\\nSkipping line 42679: expected 6 fields, saw 11\\nSkipping line 42694: expected 6 fields, saw 10\\nSkipping line 42771: expected 6 fields, saw 8\\nSkipping line 42784: expected 6 fields, saw 9\\nSkipping line 42827: expected 6 fields, saw 15\\nSkipping line 42841: expected 6 fields, saw 7\\nSkipping line 42853: expected 6 fields, saw 10\\nSkipping line 42872: expected 6 fields, saw 7\\nSkipping line 42888: expected 6 fields, saw 8\\nSkipping line 42902: expected 6 fields, saw 58\\nSkipping line 42915: expected 6 fields, saw 10\\nSkipping line 43007: expected 6 fields, saw 19\\nSkipping line 43046: expected 6 fields, saw 7\\nSkipping line 43091: expected 6 fields, saw 9\\nSkipping line 43155: expected 6 fields, saw 8\\nSkipping line 43176: expected 6 fields, saw 9\\nSkipping line 43232: expected 6 fields, saw 10\\nSkipping line 43240: expected 6 fields, saw 13\\nSkipping line 43249: expected 6 fields, saw 8\\nSkipping line 43298: expected 6 fields, saw 7\\nSkipping line 43332: expected 6 fields, saw 11\\nSkipping line 43367: expected 6 fields, saw 10\\nSkipping line 43369: expected 6 fields, saw 8\\nSkipping line 43418: expected 6 fields, saw 10\\nSkipping line 43461: expected 6 fields, saw 13\\nSkipping line 43560: expected 6 fields, saw 8\\nSkipping line 43612: expected 6 fields, saw 8\\nSkipping line 43622: expected 6 fields, saw 7\\nSkipping line 43625: expected 6 fields, saw 7\\nSkipping line 43644: expected 6 fields, saw 7\\nSkipping line 43645: expected 6 fields, saw 9\\nSkipping line 43648: expected 6 fields, saw 7\\nSkipping line 43761: expected 6 fields, saw 10\\nSkipping line 43772: expected 6 fields, saw 8\\nSkipping line 43792: expected 6 fields, saw 7\\nSkipping line 43796: expected 6 fields, saw 9\\nSkipping line 43824: expected 6 fields, saw 8\\nSkipping line 43891: expected 6 fields, saw 8\\nSkipping line 43985: expected 6 fields, saw 8\\nSkipping line 43994: expected 6 fields, saw 10\\nSkipping line 44000: expected 6 fields, saw 9\\nSkipping line 44030: expected 6 fields, saw 7\\nSkipping line 44032: expected 6 fields, saw 8\\nSkipping line 44088: expected 6 fields, saw 12\\nSkipping line 44131: expected 6 fields, saw 10\\nSkipping line 44178: expected 6 fields, saw 8\\nSkipping line 44220: expected 6 fields, saw 7\\nSkipping line 44269: expected 6 fields, saw 13\\nSkipping line 44403: expected 6 fields, saw 9\\nSkipping line 44497: expected 6 fields, saw 10\\nSkipping line 44530: expected 6 fields, saw 7\\nSkipping line 44579: expected 6 fields, saw 18\\nSkipping line 44582: expected 6 fields, saw 8\\nSkipping line 44587: expected 6 fields, saw 9\\nSkipping line 44651: expected 6 fields, saw 10\\nSkipping line 44652: expected 6 fields, saw 7\\nSkipping line 44706: expected 6 fields, saw 14\\nSkipping line 44794: expected 6 fields, saw 9\\nSkipping line 44803: expected 6 fields, saw 10\\nSkipping line 44824: expected 6 fields, saw 8\\nSkipping line 44970: expected 6 fields, saw 10\\nSkipping line 45115: expected 6 fields, saw 9\\nSkipping line 45184: expected 6 fields, saw 9\\nSkipping line 45198: expected 6 fields, saw 7\\nSkipping line 45232: expected 6 fields, saw 7\\nSkipping line 45398: expected 6 fields, saw 10\\nSkipping line 45422: expected 6 fields, saw 7\\nSkipping line 45565: expected 6 fields, saw 7\\nSkipping line 45570: expected 6 fields, saw 7\\nSkipping line 45593: expected 6 fields, saw 7\\nSkipping line 45645: expected 6 fields, saw 17\\nSkipping line 45698: expected 6 fields, saw 10\\nSkipping line 45774: expected 6 fields, saw 11\\nSkipping line 45845: expected 6 fields, saw 21\\nSkipping line 46138: expected 6 fields, saw 9\\nSkipping line 46238: expected 6 fields, saw 7\\nSkipping line 46251: expected 6 fields, saw 9\\nSkipping line 46254: expected 6 fields, saw 10\\nSkipping line 46271: expected 6 fields, saw 11\\nSkipping line 46292: expected 6 fields, saw 7\\nSkipping line 46297: expected 6 fields, saw 18\\nSkipping line 46389: expected 6 fields, saw 8\\nSkipping line 46402: expected 6 fields, saw 8\\nSkipping line 46469: expected 6 fields, saw 10\\nSkipping line 46551: expected 6 fields, saw 10\\nSkipping line 46594: expected 6 fields, saw 7\\nSkipping line 46634: expected 6 fields, saw 7\\nSkipping line 46717: expected 6 fields, saw 10\\nSkipping line 46882: expected 6 fields, saw 10\\nSkipping line 46957: expected 6 fields, saw 9\\nSkipping line 47033: expected 6 fields, saw 7\\nSkipping line 47102: expected 6 fields, saw 7\\nSkipping line 47123: expected 6 fields, saw 7\\nSkipping line 47200: expected 6 fields, saw 8\\nSkipping line 47206: expected 6 fields, saw 9\\nSkipping line 47230: expected 6 fields, saw 123\\nSkipping line 47285: expected 6 fields, saw 9\\nSkipping line 47371: expected 6 fields, saw 7\\nSkipping line 47381: expected 6 fields, saw 7\\nSkipping line 47654: expected 6 fields, saw 7\\nSkipping line 47768: expected 6 fields, saw 8\\nSkipping line 47813: expected 6 fields, saw 8\\nSkipping line 48057: expected 6 fields, saw 12\\nSkipping line 48071: expected 6 fields, saw 7\\nSkipping line 48087: expected 6 fields, saw 38\\nSkipping line 48090: expected 6 fields, saw 11\\nSkipping line 48130: expected 6 fields, saw 8\\nSkipping line 48365: expected 6 fields, saw 7\\nSkipping line 48670: expected 6 fields, saw 7\\nSkipping line 48745: expected 6 fields, saw 8\\nSkipping line 48866: expected 6 fields, saw 12\\nSkipping line 49022: expected 6 fields, saw 7\\nSkipping line 49079: expected 6 fields, saw 7\\nSkipping line 49092: expected 6 fields, saw 9\\nSkipping line 49133: expected 6 fields, saw 7\\nSkipping line 49417: expected 6 fields, saw 7\\nSkipping line 49563: expected 6 fields, saw 7\\nSkipping line 49746: expected 6 fields, saw 7\\nSkipping line 49800: expected 6 fields, saw 7\\nSkipping line 49836: expected 6 fields, saw 7\\nSkipping line 49922: expected 6 fields, saw 7\\nSkipping line 50005: expected 6 fields, saw 13\\nSkipping line 50094: expected 6 fields, saw 14\\nSkipping line 50102: expected 6 fields, saw 11\\nSkipping line 50257: expected 6 fields, saw 8\\nSkipping line 50485: expected 6 fields, saw 21\\nSkipping line 50600: expected 6 fields, saw 7\\nSkipping line 50609: expected 6 fields, saw 8\\nSkipping line 50704: expected 6 fields, saw 7\\nSkipping line 50830: expected 6 fields, saw 7\\nSkipping line 51076: expected 6 fields, saw 7\\nSkipping line 51238: expected 6 fields, saw 7\\nSkipping line 51749: expected 6 fields, saw 8\\nSkipping line 52276: expected 6 fields, saw 7\\nSkipping line 52475: expected 6 fields, saw 7\\nSkipping line 52705: expected 6 fields, saw 7\\nSkipping line 53011: expected 6 fields, saw 7\\nSkipping line 53058: expected 6 fields, saw 7\\nSkipping line 53086: expected 6 fields, saw 7\\nSkipping line 53181: expected 6 fields, saw 7\\nSkipping line 53232: expected 6 fields, saw 8\\nSkipping line 53325: expected 6 fields, saw 7\\nSkipping line 53398: expected 6 fields, saw 7\\nSkipping line 53517: expected 6 fields, saw 14\\nSkipping line 53583: expected 6 fields, saw 7\\nSkipping line 53997: expected 6 fields, saw 12\\nSkipping line 54005: expected 6 fields, saw 7\\nSkipping line 54182: expected 6 fields, saw 10\\nSkipping line 54237: expected 6 fields, saw 8\\nSkipping line 54367: expected 6 fields, saw 56\\nSkipping line 54544: expected 6 fields, saw 7\\nSkipping line 54582: expected 6 fields, saw 7\\nSkipping line 55194: expected 6 fields, saw 10\\nSkipping line 55218: expected 6 fields, saw 12\\nSkipping line 55290: expected 6 fields, saw 76\\nSkipping line 55381: expected 6 fields, saw 9\\nSkipping line 55493: expected 6 fields, saw 7\\nSkipping line 55810: expected 6 fields, saw 7\\nSkipping line 55853: expected 6 fields, saw 9\\nSkipping line 55897: expected 6 fields, saw 21\\nSkipping line 56001: expected 6 fields, saw 7\\nSkipping line 56082: expected 6 fields, saw 56\\nSkipping line 56114: expected 6 fields, saw 7\\nSkipping line 56128: expected 6 fields, saw 7\\nSkipping line 56199: expected 6 fields, saw 8\\nSkipping line 56487: expected 6 fields, saw 8\\nSkipping line 56550: expected 6 fields, saw 9\\nSkipping line 56610: expected 6 fields, saw 7\\nSkipping line 56733: expected 6 fields, saw 46\\nSkipping line 56735: expected 6 fields, saw 7\\nSkipping line 56993: expected 6 fields, saw 7\\nSkipping line 57060: expected 6 fields, saw 7\\nSkipping line 57087: expected 6 fields, saw 7\\nSkipping line 57426: expected 6 fields, saw 7\\nSkipping line 57527: expected 6 fields, saw 7\\nSkipping line 57828: expected 6 fields, saw 7\\nSkipping line 58144: expected 6 fields, saw 10\\nSkipping line 58191: expected 6 fields, saw 16\\nSkipping line 58404: expected 6 fields, saw 13\\nSkipping line 58654: expected 6 fields, saw 7\\nSkipping line 58662: expected 6 fields, saw 7\\nSkipping line 58804: expected 6 fields, saw 56\\nSkipping line 59066: expected 6 fields, saw 7\\nSkipping line 59119: expected 6 fields, saw 7\\nSkipping line 59461: expected 6 fields, saw 9\\nSkipping line 60196: expected 6 fields, saw 7\\nSkipping line 60754: expected 6 fields, saw 7\\nSkipping line 60972: expected 6 fields, saw 11\\nSkipping line 61138: expected 6 fields, saw 7\\n'\n"
          ],
          "name": "stderr"
        }
      ]
    },
    {
      "cell_type": "code",
      "metadata": {
        "colab": {
          "base_uri": "https://localhost:8080/",
          "height": 204
        },
        "id": "obP8YxpBMiCd",
        "outputId": "d1beb9e4-4d37-4ba7-e47d-f2594099f719"
      },
      "source": [
        "df.head()"
      ],
      "execution_count": 243,
      "outputs": [
        {
          "output_type": "execute_result",
          "data": {
            "text/html": [
              "<div>\n",
              "<style scoped>\n",
              "    .dataframe tbody tr th:only-of-type {\n",
              "        vertical-align: middle;\n",
              "    }\n",
              "\n",
              "    .dataframe tbody tr th {\n",
              "        vertical-align: top;\n",
              "    }\n",
              "\n",
              "    .dataframe thead th {\n",
              "        text-align: right;\n",
              "    }\n",
              "</style>\n",
              "<table border=\"1\" class=\"dataframe\">\n",
              "  <thead>\n",
              "    <tr style=\"text-align: right;\">\n",
              "      <th></th>\n",
              "      <th>0</th>\n",
              "      <th>1</th>\n",
              "      <th>2</th>\n",
              "      <th>3</th>\n",
              "      <th>4</th>\n",
              "      <th>5</th>\n",
              "    </tr>\n",
              "  </thead>\n",
              "  <tbody>\n",
              "    <tr>\n",
              "      <th>0</th>\n",
              "      <td>19951009</td>\n",
              "      <td>19951009</td>\n",
              "      <td>Iowa City, IA</td>\n",
              "      <td>NaN</td>\n",
              "      <td>NaN</td>\n",
              "      <td>Man repts. witnessing &amp;quot;flash, followed by...</td>\n",
              "    </tr>\n",
              "    <tr>\n",
              "      <th>1</th>\n",
              "      <td>19951010</td>\n",
              "      <td>19951011</td>\n",
              "      <td>Milwaukee, WI</td>\n",
              "      <td>NaN</td>\n",
              "      <td>2 min.</td>\n",
              "      <td>Man  on Hwy 43 SW of Milwaukee sees large, bri...</td>\n",
              "    </tr>\n",
              "    <tr>\n",
              "      <th>2</th>\n",
              "      <td>19950101</td>\n",
              "      <td>19950103</td>\n",
              "      <td>Shelton, WA</td>\n",
              "      <td>NaN</td>\n",
              "      <td>NaN</td>\n",
              "      <td>Telephoned Report:CA woman visiting daughter w...</td>\n",
              "    </tr>\n",
              "    <tr>\n",
              "      <th>3</th>\n",
              "      <td>19950510</td>\n",
              "      <td>19950510</td>\n",
              "      <td>Columbia, MO</td>\n",
              "      <td>NaN</td>\n",
              "      <td>2 min.</td>\n",
              "      <td>Man repts. son&amp;apos;s bizarre sighting of smal...</td>\n",
              "    </tr>\n",
              "    <tr>\n",
              "      <th>4</th>\n",
              "      <td>19950611</td>\n",
              "      <td>19950614</td>\n",
              "      <td>Seattle, WA</td>\n",
              "      <td>NaN</td>\n",
              "      <td>NaN</td>\n",
              "      <td>Anonymous caller repts. sighting 4 ufo&amp;apos;s ...</td>\n",
              "    </tr>\n",
              "  </tbody>\n",
              "</table>\n",
              "</div>"
            ],
            "text/plain": [
              "          0  ...                                                  5\n",
              "0  19951009  ...  Man repts. witnessing &quot;flash, followed by...\n",
              "1  19951010  ...  Man  on Hwy 43 SW of Milwaukee sees large, bri...\n",
              "2  19950101  ...  Telephoned Report:CA woman visiting daughter w...\n",
              "3  19950510  ...  Man repts. son&apos;s bizarre sighting of smal...\n",
              "4  19950611  ...  Anonymous caller repts. sighting 4 ufo&apos;s ...\n",
              "\n",
              "[5 rows x 6 columns]"
            ]
          },
          "metadata": {
            "tags": []
          },
          "execution_count": 243
        }
      ]
    },
    {
      "cell_type": "code",
      "metadata": {
        "id": "mYxb4TPEMqyK"
      },
      "source": [
        "df.columns = [\"DateSaw\",\"DateReg\",\"State\",\"Keyword\",\"Time\",\"Description\"]"
      ],
      "execution_count": 244,
      "outputs": []
    },
    {
      "cell_type": "code",
      "metadata": {
        "colab": {
          "base_uri": "https://localhost:8080/"
        },
        "id": "5EzvN_KQM56z",
        "outputId": "afbe7d21-25bd-4a97-84ee-3cc7fc47c8dd"
      },
      "source": [
        "df.info()"
      ],
      "execution_count": 245,
      "outputs": [
        {
          "output_type": "stream",
          "text": [
            "<class 'pandas.core.frame.DataFrame'>\n",
            "RangeIndex: 61069 entries, 0 to 61068\n",
            "Data columns (total 6 columns):\n",
            " #   Column       Non-Null Count  Dtype \n",
            "---  ------       --------------  ----- \n",
            " 0   DateSaw      61069 non-null  int64 \n",
            " 1   DateReg      61069 non-null  int64 \n",
            " 2   State        61068 non-null  object\n",
            " 3   Keyword      58556 non-null  object\n",
            " 4   Time         58658 non-null  object\n",
            " 5   Description  61067 non-null  object\n",
            "dtypes: int64(2), object(4)\n",
            "memory usage: 2.8+ MB\n"
          ],
          "name": "stdout"
        }
      ]
    },
    {
      "cell_type": "code",
      "metadata": {
        "colab": {
          "base_uri": "https://localhost:8080/",
          "height": 297
        },
        "id": "xLImqO1vM0Z5",
        "outputId": "e1e0c955-837b-4c09-952a-1b49926bfaa5"
      },
      "source": [
        "df.describe()"
      ],
      "execution_count": 246,
      "outputs": [
        {
          "output_type": "execute_result",
          "data": {
            "text/html": [
              "<div>\n",
              "<style scoped>\n",
              "    .dataframe tbody tr th:only-of-type {\n",
              "        vertical-align: middle;\n",
              "    }\n",
              "\n",
              "    .dataframe tbody tr th {\n",
              "        vertical-align: top;\n",
              "    }\n",
              "\n",
              "    .dataframe thead th {\n",
              "        text-align: right;\n",
              "    }\n",
              "</style>\n",
              "<table border=\"1\" class=\"dataframe\">\n",
              "  <thead>\n",
              "    <tr style=\"text-align: right;\">\n",
              "      <th></th>\n",
              "      <th>DateSaw</th>\n",
              "      <th>DateReg</th>\n",
              "    </tr>\n",
              "  </thead>\n",
              "  <tbody>\n",
              "    <tr>\n",
              "      <th>count</th>\n",
              "      <td>6.106900e+04</td>\n",
              "      <td>6.106900e+04</td>\n",
              "    </tr>\n",
              "    <tr>\n",
              "      <th>mean</th>\n",
              "      <td>1.992401e+07</td>\n",
              "      <td>2.004449e+07</td>\n",
              "    </tr>\n",
              "    <tr>\n",
              "      <th>std</th>\n",
              "      <td>1.287071e+06</td>\n",
              "      <td>3.679017e+04</td>\n",
              "    </tr>\n",
              "    <tr>\n",
              "      <th>min</th>\n",
              "      <td>0.000000e+00</td>\n",
              "      <td>1.905062e+07</td>\n",
              "    </tr>\n",
              "    <tr>\n",
              "      <th>25%</th>\n",
              "      <td>1.999090e+07</td>\n",
              "      <td>2.002051e+07</td>\n",
              "    </tr>\n",
              "    <tr>\n",
              "      <th>50%</th>\n",
              "      <td>2.003113e+07</td>\n",
              "      <td>2.005022e+07</td>\n",
              "    </tr>\n",
              "    <tr>\n",
              "      <th>75%</th>\n",
              "      <td>2.007062e+07</td>\n",
              "      <td>2.007122e+07</td>\n",
              "    </tr>\n",
              "    <tr>\n",
              "      <th>max</th>\n",
              "      <td>2.010083e+07</td>\n",
              "      <td>2.010083e+07</td>\n",
              "    </tr>\n",
              "  </tbody>\n",
              "</table>\n",
              "</div>"
            ],
            "text/plain": [
              "            DateSaw       DateReg\n",
              "count  6.106900e+04  6.106900e+04\n",
              "mean   1.992401e+07  2.004449e+07\n",
              "std    1.287071e+06  3.679017e+04\n",
              "min    0.000000e+00  1.905062e+07\n",
              "25%    1.999090e+07  2.002051e+07\n",
              "50%    2.003113e+07  2.005022e+07\n",
              "75%    2.007062e+07  2.007122e+07\n",
              "max    2.010083e+07  2.010083e+07"
            ]
          },
          "metadata": {
            "tags": []
          },
          "execution_count": 246
        }
      ]
    },
    {
      "cell_type": "markdown",
      "metadata": {
        "id": "YKUKX77_dhil"
      },
      "source": [
        "# **Data cleaning**"
      ]
    },
    {
      "cell_type": "code",
      "metadata": {
        "colab": {
          "base_uri": "https://localhost:8080/"
        },
        "id": "Fhr7Ueqrek-l",
        "outputId": "5eaa35a6-8643-4b1f-9867-5d200ab9ee16"
      },
      "source": [
        "df.isna().any()"
      ],
      "execution_count": 247,
      "outputs": [
        {
          "output_type": "execute_result",
          "data": {
            "text/plain": [
              "DateSaw        False\n",
              "DateReg        False\n",
              "State           True\n",
              "Keyword         True\n",
              "Time            True\n",
              "Description     True\n",
              "dtype: bool"
            ]
          },
          "metadata": {
            "tags": []
          },
          "execution_count": 247
        }
      ]
    },
    {
      "cell_type": "code",
      "metadata": {
        "colab": {
          "base_uri": "https://localhost:8080/",
          "height": 80
        },
        "id": "jDg8an7Oemqt",
        "outputId": "ef40d698-46f1-4661-ceeb-f99ce1a77545"
      },
      "source": [
        "df[df[\"State\"].isna() == True]"
      ],
      "execution_count": 248,
      "outputs": [
        {
          "output_type": "execute_result",
          "data": {
            "text/html": [
              "<div>\n",
              "<style scoped>\n",
              "    .dataframe tbody tr th:only-of-type {\n",
              "        vertical-align: middle;\n",
              "    }\n",
              "\n",
              "    .dataframe tbody tr th {\n",
              "        vertical-align: top;\n",
              "    }\n",
              "\n",
              "    .dataframe thead th {\n",
              "        text-align: right;\n",
              "    }\n",
              "</style>\n",
              "<table border=\"1\" class=\"dataframe\">\n",
              "  <thead>\n",
              "    <tr style=\"text-align: right;\">\n",
              "      <th></th>\n",
              "      <th>DateSaw</th>\n",
              "      <th>DateReg</th>\n",
              "      <th>State</th>\n",
              "      <th>Keyword</th>\n",
              "      <th>Time</th>\n",
              "      <th>Description</th>\n",
              "    </tr>\n",
              "  </thead>\n",
              "  <tbody>\n",
              "    <tr>\n",
              "      <th>19132</th>\n",
              "      <td>20030118</td>\n",
              "      <td>20030120</td>\n",
              "      <td>NaN</td>\n",
              "      <td>Duration:45 min this is the third time i have ...</td>\n",
              "      <td>NaN</td>\n",
              "      <td>NaN</td>\n",
              "    </tr>\n",
              "  </tbody>\n",
              "</table>\n",
              "</div>"
            ],
            "text/plain": [
              "        DateSaw   DateReg  ... Time Description\n",
              "19132  20030118  20030120  ...  NaN         NaN\n",
              "\n",
              "[1 rows x 6 columns]"
            ]
          },
          "metadata": {
            "tags": []
          },
          "execution_count": 248
        }
      ]
    },
    {
      "cell_type": "code",
      "metadata": {
        "colab": {
          "base_uri": "https://localhost:8080/",
          "height": 419
        },
        "id": "QHWeMONtevEw",
        "outputId": "25b7b89d-ca20-4a05-9d5b-a01f1151980b"
      },
      "source": [
        "df[df[\"Keyword\"].isna() == True]"
      ],
      "execution_count": 249,
      "outputs": [
        {
          "output_type": "execute_result",
          "data": {
            "text/html": [
              "<div>\n",
              "<style scoped>\n",
              "    .dataframe tbody tr th:only-of-type {\n",
              "        vertical-align: middle;\n",
              "    }\n",
              "\n",
              "    .dataframe tbody tr th {\n",
              "        vertical-align: top;\n",
              "    }\n",
              "\n",
              "    .dataframe thead th {\n",
              "        text-align: right;\n",
              "    }\n",
              "</style>\n",
              "<table border=\"1\" class=\"dataframe\">\n",
              "  <thead>\n",
              "    <tr style=\"text-align: right;\">\n",
              "      <th></th>\n",
              "      <th>DateSaw</th>\n",
              "      <th>DateReg</th>\n",
              "      <th>State</th>\n",
              "      <th>Keyword</th>\n",
              "      <th>Time</th>\n",
              "      <th>Description</th>\n",
              "    </tr>\n",
              "  </thead>\n",
              "  <tbody>\n",
              "    <tr>\n",
              "      <th>0</th>\n",
              "      <td>19951009</td>\n",
              "      <td>19951009</td>\n",
              "      <td>Iowa City, IA</td>\n",
              "      <td>NaN</td>\n",
              "      <td>NaN</td>\n",
              "      <td>Man repts. witnessing &amp;quot;flash, followed by...</td>\n",
              "    </tr>\n",
              "    <tr>\n",
              "      <th>1</th>\n",
              "      <td>19951010</td>\n",
              "      <td>19951011</td>\n",
              "      <td>Milwaukee, WI</td>\n",
              "      <td>NaN</td>\n",
              "      <td>2 min.</td>\n",
              "      <td>Man  on Hwy 43 SW of Milwaukee sees large, bri...</td>\n",
              "    </tr>\n",
              "    <tr>\n",
              "      <th>2</th>\n",
              "      <td>19950101</td>\n",
              "      <td>19950103</td>\n",
              "      <td>Shelton, WA</td>\n",
              "      <td>NaN</td>\n",
              "      <td>NaN</td>\n",
              "      <td>Telephoned Report:CA woman visiting daughter w...</td>\n",
              "    </tr>\n",
              "    <tr>\n",
              "      <th>3</th>\n",
              "      <td>19950510</td>\n",
              "      <td>19950510</td>\n",
              "      <td>Columbia, MO</td>\n",
              "      <td>NaN</td>\n",
              "      <td>2 min.</td>\n",
              "      <td>Man repts. son&amp;apos;s bizarre sighting of smal...</td>\n",
              "    </tr>\n",
              "    <tr>\n",
              "      <th>4</th>\n",
              "      <td>19950611</td>\n",
              "      <td>19950614</td>\n",
              "      <td>Seattle, WA</td>\n",
              "      <td>NaN</td>\n",
              "      <td>NaN</td>\n",
              "      <td>Anonymous caller repts. sighting 4 ufo&amp;apos;s ...</td>\n",
              "    </tr>\n",
              "    <tr>\n",
              "      <th>...</th>\n",
              "      <td>...</td>\n",
              "      <td>...</td>\n",
              "      <td>...</td>\n",
              "      <td>...</td>\n",
              "      <td>...</td>\n",
              "      <td>...</td>\n",
              "    </tr>\n",
              "    <tr>\n",
              "      <th>60683</th>\n",
              "      <td>19970614</td>\n",
              "      <td>20100827</td>\n",
              "      <td>Ludlow, CA</td>\n",
              "      <td>NaN</td>\n",
              "      <td>15 min.</td>\n",
              "      <td>enormous pulsing red smoke bellowing lightsbea...</td>\n",
              "    </tr>\n",
              "    <tr>\n",
              "      <th>60759</th>\n",
              "      <td>20100707</td>\n",
              "      <td>20100826</td>\n",
              "      <td>Sonora, TX</td>\n",
              "      <td>NaN</td>\n",
              "      <td>1 hour</td>\n",
              "      <td>Vivid lights in daytime skyWe were traveling o...</td>\n",
              "    </tr>\n",
              "    <tr>\n",
              "      <th>60824</th>\n",
              "      <td>20100828</td>\n",
              "      <td>20100829</td>\n",
              "      <td>Burlingame, KS</td>\n",
              "      <td>NaN</td>\n",
              "      <td>2 hours</td>\n",
              "      <td>Since 25 August, I have witnessed 2 cigar/chev...</td>\n",
              "    </tr>\n",
              "    <tr>\n",
              "      <th>60854</th>\n",
              "      <td>20090914</td>\n",
              "      <td>20100813</td>\n",
              "      <td>Meadville, PA</td>\n",
              "      <td>NaN</td>\n",
              "      <td>3 mins</td>\n",
              "      <td>SPIDER ALEIN, 20 legs waist high showed itself...</td>\n",
              "    </tr>\n",
              "    <tr>\n",
              "      <th>60929</th>\n",
              "      <td>20100807</td>\n",
              "      <td>20100810</td>\n",
              "      <td>Seabeck, WA</td>\n",
              "      <td>NaN</td>\n",
              "      <td>15 min</td>\n",
              "      <td>Round, bright orange balls in sky traveling in...</td>\n",
              "    </tr>\n",
              "  </tbody>\n",
              "</table>\n",
              "<p>2513 rows × 6 columns</p>\n",
              "</div>"
            ],
            "text/plain": [
              "        DateSaw  ...                                        Description\n",
              "0      19951009  ...  Man repts. witnessing &quot;flash, followed by...\n",
              "1      19951010  ...  Man  on Hwy 43 SW of Milwaukee sees large, bri...\n",
              "2      19950101  ...  Telephoned Report:CA woman visiting daughter w...\n",
              "3      19950510  ...  Man repts. son&apos;s bizarre sighting of smal...\n",
              "4      19950611  ...  Anonymous caller repts. sighting 4 ufo&apos;s ...\n",
              "...         ...  ...                                                ...\n",
              "60683  19970614  ...  enormous pulsing red smoke bellowing lightsbea...\n",
              "60759  20100707  ...  Vivid lights in daytime skyWe were traveling o...\n",
              "60824  20100828  ...  Since 25 August, I have witnessed 2 cigar/chev...\n",
              "60854  20090914  ...  SPIDER ALEIN, 20 legs waist high showed itself...\n",
              "60929  20100807  ...  Round, bright orange balls in sky traveling in...\n",
              "\n",
              "[2513 rows x 6 columns]"
            ]
          },
          "metadata": {
            "tags": []
          },
          "execution_count": 249
        }
      ]
    },
    {
      "cell_type": "code",
      "metadata": {
        "colab": {
          "base_uri": "https://localhost:8080/",
          "height": 419
        },
        "id": "Yv4W5q-3hKAd",
        "outputId": "e5027a53-1947-44e1-97e8-b7e16c3d7c99"
      },
      "source": [
        "df[df[\"Time\"].isna() == True]"
      ],
      "execution_count": 250,
      "outputs": [
        {
          "output_type": "execute_result",
          "data": {
            "text/html": [
              "<div>\n",
              "<style scoped>\n",
              "    .dataframe tbody tr th:only-of-type {\n",
              "        vertical-align: middle;\n",
              "    }\n",
              "\n",
              "    .dataframe tbody tr th {\n",
              "        vertical-align: top;\n",
              "    }\n",
              "\n",
              "    .dataframe thead th {\n",
              "        text-align: right;\n",
              "    }\n",
              "</style>\n",
              "<table border=\"1\" class=\"dataframe\">\n",
              "  <thead>\n",
              "    <tr style=\"text-align: right;\">\n",
              "      <th></th>\n",
              "      <th>DateSaw</th>\n",
              "      <th>DateReg</th>\n",
              "      <th>State</th>\n",
              "      <th>Keyword</th>\n",
              "      <th>Time</th>\n",
              "      <th>Description</th>\n",
              "    </tr>\n",
              "  </thead>\n",
              "  <tbody>\n",
              "    <tr>\n",
              "      <th>0</th>\n",
              "      <td>19951009</td>\n",
              "      <td>19951009</td>\n",
              "      <td>Iowa City, IA</td>\n",
              "      <td>NaN</td>\n",
              "      <td>NaN</td>\n",
              "      <td>Man repts. witnessing &amp;quot;flash, followed by...</td>\n",
              "    </tr>\n",
              "    <tr>\n",
              "      <th>2</th>\n",
              "      <td>19950101</td>\n",
              "      <td>19950103</td>\n",
              "      <td>Shelton, WA</td>\n",
              "      <td>NaN</td>\n",
              "      <td>NaN</td>\n",
              "      <td>Telephoned Report:CA woman visiting daughter w...</td>\n",
              "    </tr>\n",
              "    <tr>\n",
              "      <th>4</th>\n",
              "      <td>19950611</td>\n",
              "      <td>19950614</td>\n",
              "      <td>Seattle, WA</td>\n",
              "      <td>NaN</td>\n",
              "      <td>NaN</td>\n",
              "      <td>Anonymous caller repts. sighting 4 ufo&amp;apos;s ...</td>\n",
              "    </tr>\n",
              "    <tr>\n",
              "      <th>7</th>\n",
              "      <td>19950911</td>\n",
              "      <td>19950911</td>\n",
              "      <td>Las Vegas, NV</td>\n",
              "      <td>NaN</td>\n",
              "      <td>NaN</td>\n",
              "      <td>Man repts. bright, multi-colored obj. in NW ni...</td>\n",
              "    </tr>\n",
              "    <tr>\n",
              "      <th>8</th>\n",
              "      <td>19950115</td>\n",
              "      <td>19950214</td>\n",
              "      <td>Morton, WA</td>\n",
              "      <td>NaN</td>\n",
              "      <td>NaN</td>\n",
              "      <td>Woman reports 2 craft fly over house.  Strange...</td>\n",
              "    </tr>\n",
              "    <tr>\n",
              "      <th>...</th>\n",
              "      <td>...</td>\n",
              "      <td>...</td>\n",
              "      <td>...</td>\n",
              "      <td>...</td>\n",
              "      <td>...</td>\n",
              "      <td>...</td>\n",
              "    </tr>\n",
              "    <tr>\n",
              "      <th>60894</th>\n",
              "      <td>20100816</td>\n",
              "      <td>20100816</td>\n",
              "      <td>Barton City, MI</td>\n",
              "      <td>triangle</td>\n",
              "      <td>NaN</td>\n",
              "      <td>UFO in Northern MIchiganMy alarm was set for 6...</td>\n",
              "    </tr>\n",
              "    <tr>\n",
              "      <th>60918</th>\n",
              "      <td>20100825</td>\n",
              "      <td>20100825</td>\n",
              "      <td>hammond, IN</td>\n",
              "      <td>changing</td>\n",
              "      <td>NaN</td>\n",
              "      <td>big flash over hammond indiana with a shape ch...</td>\n",
              "    </tr>\n",
              "    <tr>\n",
              "      <th>60950</th>\n",
              "      <td>20100822</td>\n",
              "      <td>20100827</td>\n",
              "      <td>Pond Gap, WV</td>\n",
              "      <td>oval</td>\n",
              "      <td>NaN</td>\n",
              "      <td>i have pictures of ufo&amp;apos;s not sure what to...</td>\n",
              "    </tr>\n",
              "    <tr>\n",
              "      <th>60964</th>\n",
              "      <td>20100729</td>\n",
              "      <td>20100829</td>\n",
              "      <td>Port Angeles, WA</td>\n",
              "      <td>sphere</td>\n",
              "      <td>NaN</td>\n",
              "      <td>Spherical-shaped  object over Hurricane Ridge,...</td>\n",
              "    </tr>\n",
              "    <tr>\n",
              "      <th>61027</th>\n",
              "      <td>20100815</td>\n",
              "      <td>20100815</td>\n",
              "      <td>Whistling Straits, WI</td>\n",
              "      <td>disk</td>\n",
              "      <td>NaN</td>\n",
              "      <td>Pink saucer seen over Whistling Straits, Wisco...</td>\n",
              "    </tr>\n",
              "  </tbody>\n",
              "</table>\n",
              "<p>2411 rows × 6 columns</p>\n",
              "</div>"
            ],
            "text/plain": [
              "        DateSaw  ...                                        Description\n",
              "0      19951009  ...  Man repts. witnessing &quot;flash, followed by...\n",
              "2      19950101  ...  Telephoned Report:CA woman visiting daughter w...\n",
              "4      19950611  ...  Anonymous caller repts. sighting 4 ufo&apos;s ...\n",
              "7      19950911  ...  Man repts. bright, multi-colored obj. in NW ni...\n",
              "8      19950115  ...  Woman reports 2 craft fly over house.  Strange...\n",
              "...         ...  ...                                                ...\n",
              "60894  20100816  ...  UFO in Northern MIchiganMy alarm was set for 6...\n",
              "60918  20100825  ...  big flash over hammond indiana with a shape ch...\n",
              "60950  20100822  ...  i have pictures of ufo&apos;s not sure what to...\n",
              "60964  20100729  ...  Spherical-shaped  object over Hurricane Ridge,...\n",
              "61027  20100815  ...  Pink saucer seen over Whistling Straits, Wisco...\n",
              "\n",
              "[2411 rows x 6 columns]"
            ]
          },
          "metadata": {
            "tags": []
          },
          "execution_count": 250
        }
      ]
    },
    {
      "cell_type": "code",
      "metadata": {
        "colab": {
          "base_uri": "https://localhost:8080/",
          "height": 111
        },
        "id": "tE6ml2gZiUkY",
        "outputId": "f82b7201-f0fa-49a3-eb20-fbdb9fd0c3c5"
      },
      "source": [
        "df[df[\"Description\"].isna() == True]"
      ],
      "execution_count": 251,
      "outputs": [
        {
          "output_type": "execute_result",
          "data": {
            "text/html": [
              "<div>\n",
              "<style scoped>\n",
              "    .dataframe tbody tr th:only-of-type {\n",
              "        vertical-align: middle;\n",
              "    }\n",
              "\n",
              "    .dataframe tbody tr th {\n",
              "        vertical-align: top;\n",
              "    }\n",
              "\n",
              "    .dataframe thead th {\n",
              "        text-align: right;\n",
              "    }\n",
              "</style>\n",
              "<table border=\"1\" class=\"dataframe\">\n",
              "  <thead>\n",
              "    <tr style=\"text-align: right;\">\n",
              "      <th></th>\n",
              "      <th>DateSaw</th>\n",
              "      <th>DateReg</th>\n",
              "      <th>State</th>\n",
              "      <th>Keyword</th>\n",
              "      <th>Time</th>\n",
              "      <th>Description</th>\n",
              "    </tr>\n",
              "  </thead>\n",
              "  <tbody>\n",
              "    <tr>\n",
              "      <th>6264</th>\n",
              "      <td>19991006</td>\n",
              "      <td>19991007</td>\n",
              "      <td>May&amp;apos;s Landing</td>\n",
              "      <td>Duration:3 min seen in the distance, lights th...</td>\n",
              "      <td>NaN</td>\n",
              "      <td>NaN</td>\n",
              "    </tr>\n",
              "    <tr>\n",
              "      <th>19132</th>\n",
              "      <td>20030118</td>\n",
              "      <td>20030120</td>\n",
              "      <td>NaN</td>\n",
              "      <td>Duration:45 min this is the third time i have ...</td>\n",
              "      <td>NaN</td>\n",
              "      <td>NaN</td>\n",
              "    </tr>\n",
              "  </tbody>\n",
              "</table>\n",
              "</div>"
            ],
            "text/plain": [
              "        DateSaw   DateReg  ... Time Description\n",
              "6264   19991006  19991007  ...  NaN         NaN\n",
              "19132  20030118  20030120  ...  NaN         NaN\n",
              "\n",
              "[2 rows x 6 columns]"
            ]
          },
          "metadata": {
            "tags": []
          },
          "execution_count": 251
        }
      ]
    },
    {
      "cell_type": "markdown",
      "metadata": {
        "id": "qSiYl8yUdVzL"
      },
      "source": [
        "## **Cleaning the Date columns**"
      ]
    },
    {
      "cell_type": "code",
      "metadata": {
        "id": "cvv3mrHGVbBX"
      },
      "source": [
        "df[\"DateSaw\"] = df[\"DateSaw\"].apply(lambda x: \"\".join(list(str(x))[:4]) + \"-\" + \"\".join(list(str(x))[4:6]) + \"-\" + \"\".join(list(str(x))[6:]))\n",
        "df[\"DateReg\"] = df[\"DateReg\"].apply(lambda x: \"\".join(list(str(x))[:4]) + \"-\" + \"\".join(list(str(x))[4:6]) + \"-\" + \"\".join(list(str(x))[6:]))"
      ],
      "execution_count": 252,
      "outputs": []
    },
    {
      "cell_type": "code",
      "metadata": {
        "colab": {
          "base_uri": "https://localhost:8080/",
          "height": 0
        },
        "id": "YVcTGhYcbY9q",
        "outputId": "3dcca9ad-1603-4bb1-be6c-25528844d0a2"
      },
      "source": [
        "df[[\"DateSaw\",\"DateReg\"]]"
      ],
      "execution_count": 253,
      "outputs": [
        {
          "output_type": "execute_result",
          "data": {
            "text/html": [
              "<div>\n",
              "<style scoped>\n",
              "    .dataframe tbody tr th:only-of-type {\n",
              "        vertical-align: middle;\n",
              "    }\n",
              "\n",
              "    .dataframe tbody tr th {\n",
              "        vertical-align: top;\n",
              "    }\n",
              "\n",
              "    .dataframe thead th {\n",
              "        text-align: right;\n",
              "    }\n",
              "</style>\n",
              "<table border=\"1\" class=\"dataframe\">\n",
              "  <thead>\n",
              "    <tr style=\"text-align: right;\">\n",
              "      <th></th>\n",
              "      <th>DateSaw</th>\n",
              "      <th>DateReg</th>\n",
              "    </tr>\n",
              "  </thead>\n",
              "  <tbody>\n",
              "    <tr>\n",
              "      <th>0</th>\n",
              "      <td>1995-10-09</td>\n",
              "      <td>1995-10-09</td>\n",
              "    </tr>\n",
              "    <tr>\n",
              "      <th>1</th>\n",
              "      <td>1995-10-10</td>\n",
              "      <td>1995-10-11</td>\n",
              "    </tr>\n",
              "    <tr>\n",
              "      <th>2</th>\n",
              "      <td>1995-01-01</td>\n",
              "      <td>1995-01-03</td>\n",
              "    </tr>\n",
              "    <tr>\n",
              "      <th>3</th>\n",
              "      <td>1995-05-10</td>\n",
              "      <td>1995-05-10</td>\n",
              "    </tr>\n",
              "    <tr>\n",
              "      <th>4</th>\n",
              "      <td>1995-06-11</td>\n",
              "      <td>1995-06-14</td>\n",
              "    </tr>\n",
              "    <tr>\n",
              "      <th>...</th>\n",
              "      <td>...</td>\n",
              "      <td>...</td>\n",
              "    </tr>\n",
              "    <tr>\n",
              "      <th>61064</th>\n",
              "      <td>2009-04-24</td>\n",
              "      <td>2010-08-20</td>\n",
              "    </tr>\n",
              "    <tr>\n",
              "      <th>61065</th>\n",
              "      <td>2010-08-21</td>\n",
              "      <td>2010-08-26</td>\n",
              "    </tr>\n",
              "    <tr>\n",
              "      <th>61066</th>\n",
              "      <td>2010-08-27</td>\n",
              "      <td>2010-08-27</td>\n",
              "    </tr>\n",
              "    <tr>\n",
              "      <th>61067</th>\n",
              "      <td>2010-08-18</td>\n",
              "      <td>2010-08-21</td>\n",
              "    </tr>\n",
              "    <tr>\n",
              "      <th>61068</th>\n",
              "      <td>2005-05-02</td>\n",
              "      <td>2010-08-24</td>\n",
              "    </tr>\n",
              "  </tbody>\n",
              "</table>\n",
              "<p>61069 rows × 2 columns</p>\n",
              "</div>"
            ],
            "text/plain": [
              "          DateSaw     DateReg\n",
              "0      1995-10-09  1995-10-09\n",
              "1      1995-10-10  1995-10-11\n",
              "2      1995-01-01  1995-01-03\n",
              "3      1995-05-10  1995-05-10\n",
              "4      1995-06-11  1995-06-14\n",
              "...           ...         ...\n",
              "61064  2009-04-24  2010-08-20\n",
              "61065  2010-08-21  2010-08-26\n",
              "61066  2010-08-27  2010-08-27\n",
              "61067  2010-08-18  2010-08-21\n",
              "61068  2005-05-02  2010-08-24\n",
              "\n",
              "[61069 rows x 2 columns]"
            ]
          },
          "metadata": {
            "tags": []
          },
          "execution_count": 253
        }
      ]
    },
    {
      "cell_type": "code",
      "metadata": {
        "id": "xYX17cxebd_p"
      },
      "source": [
        "df[\"temp\"] = df[\"DateSaw\"].apply(lambda x: True if len(x) == 10 else False)"
      ],
      "execution_count": 254,
      "outputs": []
    },
    {
      "cell_type": "code",
      "metadata": {
        "id": "caqBpIhJbvYy"
      },
      "source": [
        "df.drop(df[df[\"temp\"] == False].index,inplace=True)"
      ],
      "execution_count": 255,
      "outputs": []
    },
    {
      "cell_type": "code",
      "metadata": {
        "id": "nbZjLMfFb8et"
      },
      "source": [
        "df[\"temp\"] = df[\"DateReg\"].apply(lambda x: True if len(x) == 10 else False)"
      ],
      "execution_count": 256,
      "outputs": []
    },
    {
      "cell_type": "code",
      "metadata": {
        "id": "nI6W8zEGcBbL"
      },
      "source": [
        "df.drop(df[df[\"temp\"] == False].index,inplace=True)"
      ],
      "execution_count": 257,
      "outputs": []
    },
    {
      "cell_type": "code",
      "metadata": {
        "id": "j3kMxSu4cFzY"
      },
      "source": [
        "df[\"temp\"] = df[\"DateSaw\"].apply(lambda x: True if int(x.split(\"-\")[1]) in list(range(1,13)) else False) "
      ],
      "execution_count": 258,
      "outputs": []
    },
    {
      "cell_type": "code",
      "metadata": {
        "id": "-1fT458Zcjn8"
      },
      "source": [
        "df.drop(df[df[\"temp\"] == False].index,inplace=True)"
      ],
      "execution_count": 259,
      "outputs": []
    },
    {
      "cell_type": "code",
      "metadata": {
        "id": "3d2aaDoScoHj"
      },
      "source": [
        "df[\"temp\"] = df[\"DateReg\"].apply(lambda x: True if int(x.split(\"-\")[1]) in list(range(1,13)) else False) "
      ],
      "execution_count": 260,
      "outputs": []
    },
    {
      "cell_type": "code",
      "metadata": {
        "id": "keI5iFQDcrKa"
      },
      "source": [
        "df.drop(df[df[\"DateReg\"] == False].index,inplace=True)"
      ],
      "execution_count": 261,
      "outputs": []
    },
    {
      "cell_type": "code",
      "metadata": {
        "id": "GjYXawWRXW6A"
      },
      "source": [
        "df[\"DateSaw\"] = df[\"DateSaw\"].apply(lambda x: datetime.date(int(x.split(\"-\")[0]),int(x.split(\"-\")[1]),int(x.split(\"-\")[2])))"
      ],
      "execution_count": 262,
      "outputs": []
    },
    {
      "cell_type": "code",
      "metadata": {
        "id": "uYpvPqNYc1X9"
      },
      "source": [
        "df[\"DateReg\"] = df[\"DateReg\"].apply(lambda x: datetime.date(int(x.split(\"-\")[0]),int(x.split(\"-\")[1]),int(x.split(\"-\")[2])))"
      ],
      "execution_count": 263,
      "outputs": []
    },
    {
      "cell_type": "markdown",
      "metadata": {
        "id": "sqDLOlDMdmr8"
      },
      "source": [
        "## **Cleaning the State Column**"
      ]
    },
    {
      "cell_type": "code",
      "metadata": {
        "id": "V7Z5tgYBq-DU"
      },
      "source": [
        "df.drop(df[df[\"State\"].isna() == True].index,inplace=True)"
      ],
      "execution_count": 264,
      "outputs": []
    },
    {
      "cell_type": "code",
      "metadata": {
        "id": "9TNMXeTnlED3"
      },
      "source": [
        "spec_chars = [chr(i) for i in range(127) if chr(i).isalpha() == False and chr(i) != \",\"][34:]"
      ],
      "execution_count": 265,
      "outputs": []
    },
    {
      "cell_type": "code",
      "metadata": {
        "colab": {
          "base_uri": "https://localhost:8080/"
        },
        "id": "aNkhtF2XdsxA",
        "outputId": "145fcc11-44ad-458e-d402-46ca5f288074"
      },
      "source": [
        "for i in spec_chars:\n",
        "  print(i,[str(x) for x in df[\"temp\"].unique() if i in str(x)])"
      ],
      "execution_count": 279,
      "outputs": [
        {
          "output_type": "stream",
          "text": [
            "\" []\n",
            "# [' Thunder Bay -RR#3 , ON', ' New Minas,Kings County,#9 Pine Ridge Drive,, NS']\n",
            "$ []\n",
            "% []\n",
            "& [' Esl&ouml;, Scania , Other than USA', ' Nun&apos;s Island , PQ', ' Coconino Nat&apos;l Forest north of Wupatki NM, AZ, AZ', ' Pete&apos;s Hole , UT', ' Flisa, Sol&oslash;r, Hedemark , Other than USA', ' Coeur D&apos;Alene, ID', ' Tyson&apos;s Corner, VA', ' Lee&apos;s Summit, MO', ' Harvey&apos;s Lake, PA', ' US Hwy 200 between MP 39 &amp; 40, ID', ' West Coast, alt. apx 30&apos; k, northerly flight, CA', ' Malmoe/Copenhagen, Sk&aring;ne , Other than USA', ' St. John&apos;s , Other than USA', ' Dillion&apos;s Beach, CA', ' Interstate between C. Girardeau, MO &amp; Cairo, IL, MO', ' St. John&apos;s , NF', ' May&apos;s Landing', ' Parker&apos;s Lake, KY', ' Martha&apos;s Vinyard, MA', ' D&apos;Hanis, TX', ' Chanute &amp; Humbolt , KS', ' Montlu&ccedil;on , Other than USA', ' Hawaii&apos;s Volcano National Park, HI', ' O&apos;Brien, FL', ' Pite&aring; , Other than USA', ' Cascavel, Paran&aacute; , Other than USA', ' Stonglandseidet/M&oslash;lnelva , Other than USA', ' Troms&oslash; , Other than USA', ' Kapa&apos;a, HI', ' K&ouml;niz , Other than USA', ' Fort Qu&apos;Appelle , SA', ' Clingman&apos;s Dome , TN', ' Hudson&apos;s Hope , BC', ' Roger&apos;s Mesa , CO', ' Johnson&apos;s Creek, WI', ' Crete &amp; Wilber , NE', ' Ceasar&apos;s Creek and Dayton, OH', ' B&uuml;nde  , . Other than USA', ' Lee&apos;s Summit , MO', ' Pr&iacute;ncipe  , Other than USA', ' Mosj&oslash;en , Other than USA', ' Inder&oslash;y, Nord-Tr&oslash;ndelag , . Other than USA', ' Mosj&oslash;en , . Other than USA', ' Vr&aring; , Other than USA', ' Daniel&apos;s Park, CO', ' Mazatl&aacute;n, DE', ' can&apos;t say, PA', ' Harrison &amp; Mt.Plesent , MI', ' V&auml;sby , Other than USA', ' C&quot;an Picafort  , Other than USA', ' Trois-Rivi&egrave;res , PQ', ' Vit&oacute;ria  , Other than USA', ' Burk&apos;s Falls , ON', ' Br&uuml;hl , . Other than USA', ' Vit&oacute;ria , Other than USA', ' &Ccedil;anakkale , Other than USA', ' Podol&apos;sk , Other than USA', ' I don&apos;t know, MD', ' S&atilde;o Paulo , Other than USA', ' O&apos;Fallon, IL', ' Gua&iacute;ba , Other than USA', ' V&auml;stervik , Other than USA', ' La Motte D&apos;Aveillans , Other than USA', ' L&oacute;d  , Other than USA', ' Hyvink&auml;&auml; , Other than USA', ' L&oacute;d  Poland, Other than USA', ' Gasp&eacute; , PQ', ' Sunnm&oslash;re , Other than USA', ' Mt. Rainier Nat&apos;l Park , WA', ' St John&apos;s , NF', ' Smithson&apos;s Valley, TX', ' R&eacute;union Island , Other than USA', ' &Ouml;lmstad , Other than USA', ' P&auml;rnu , Other than USA', ' Ciel de St-R&eacute;mi , QC', ' St-R&eacute;mi , QC', ' Joan&oacute;polis , Other than USA', ' Stony Plain &amp; Spruce Grove , AB', ' St.Catharine&apos;s , ON', ' Norrk&ouml;ping , Other than USA', ' Gersh&oslash;j , Other than USA', ' San Jos&eacute; , Other than USA', ' &Iacute;safj&ouml;r&eth;ur , Other than USA', ' don&apos;t know, NJ', ' Mayag&uuml;ez, Other than USA', ' Bois D&apos;Arc, MO', ' Wiseman&apos;s View , NC', ' Hwy. 6 &amp; 68 , MB', ' San Marcos &amp; Escondido, CA', ' Ship&apos;s Bottom, NJ', ' Gateshead,Tyne &amp; Wear , Other than USA', ' Jackson&apos;s Point , ON', ' Yosemite Nat&apos;l Park, CA', ' Chicago &quot;highway&quot;, IL', ' St. Bernard&apos;s , NF', ' J&otilde;geva , Other than USA', ' Lion&apos;s Head , ON', ' M&eacute;xico, DC', ' O&apos;Fallon, MO', ' Stockholm/ sp&aring;nga , Other than USA', ' Montr&eacute;al , QC', ' Land O&apos;Lakes, FL', ' Labarthe sur L&egrave;ze , Other than USA', ' L&acute;ARBO&Ccedil;  , Other than USA', ' Coeur d&apos;Alene, ID', ' M&aring;l&oslash;y , Other than USA', ' Baie D&apos;urfe , QC', ' H&auml;rn&ouml;sand , Other than USA', ' highway 78 between Bailey &amp; Bonham, Texas, TX', ' Bay D&apos;Espoir , NF', ' Between Jackson Fla. &amp; Atlanta Ga., GA', ' Gila Indian Reservation &amp; S. Chandler, Ocotillo area, AZ', ' Pawley&apos;s Island , SC', ' Bagsv&aelig;rd , DC', ' Nisga&apos;a Highway , BC', ' D&apos;lberville, MS', ' Chicago O&apos;Hare Airport, IL', ' K&auml;rdla , Other than USA', ' Joshua Tree Nat&apos;l Park, CA', ' Pawley&apos;s Island, SC', ' Golden&apos;s Bridge, NY', ' Kea&apos;au, HI', ' Ghaziabad&apos; , Other than USA', ' Bailey&apos;s Harbor, WI', ' Channel Islands &amp; Norwich , Other than USA', ' Channel Islands &amp; Norwich, Other than USA', ' Ca&ccedil;ador , Other than USA', ' LLangollen &amp; Wrexham , Other than USA', ' Va&apos;vau , Other than USA', ' Loomis &amp; Folsom Lake, CA', ' Sullivan &amp; Fenton, MO', ' Westlake &amp; Hardy, VA', ' St. Louis, MO &amp; Columbia, IL, MO', ' Safford &amp; Duncan , AZ', ' Bolivar - 170th &amp; 326th Road junction, MO', ' Po&apos;ipu, HI', ' Sullivan&apos;s Island, SC', ' Colle D&apos;Valle Delsa/ Scorgiono , Other than USA', ' Rzesz&oacute;w , Other than USA', ' Dingman&apos;s Ferry, PA', ' Phenix City &amp; Columbus,Ga, AL', ' Donja Pu&scaron;a , Other than USA', ' Between Orlando &amp; Daytona, FL', ' Klaksv&iacute;k , Other than USA', ' Angleton &amp; Pearland , TX', ' Butte &amp; Bozeman , MT', ' Ouj&eacute; Bougoumou , QC', ' L&apos;Anse , MI', ' St. Paul&apos;s area, NC', ' Brunne, H&auml;rn&ouml;sand , Other than USA', ' Ka&apos;anapali, HI', ' Maca&eacute; , Other than USA', ' Reykjav&iacute;k , Other than USA', ' Smith&apos;s Ferry, ID', ' Hiller&oslash;d , Other than USA', ' St. Paul&apos;s, NC', ' Brentwood Short&apos;s Lake , NS', ' Pa&apos;akai Point- Mamalahoha Hwy, HI', ' Cooper&apos;s Rock, WV']\n",
            "' []\n",
            "( []\n",
            ") []\n",
            "* []\n",
            "+ []\n",
            "- [' MM 99 mile Exit/I-5, WA', ' Seymour-Johnson AFB, NC', ' Wilkes-Barre, PA', ' Tri-Cities, WA', ' I-10, Marker 174, NM', ' San-Carlos mountains, AZ', ' North Camano Island - Buena Vista  area- above Utsalady Bay, WA', ' Jones Co.-Jasper Co. line, Hwy.15N, MS', ' Alaska Airlines/Sea-Tac to Anchorage , BC', ' Old Valmeyer Bottoms-Valmeyer, IL', ' 1-25 corridor , CO', ' Avon-by-the-Sea, NJ', ' I-64 , IN', ' Pacific Northwest - flying from Portland to L.A., Ca/Or, Other than USA', ' Bedford--Mt. Kisco, NY', ' I-35 , TX', ' Oakland - Near the Bay Bridge, CA', ' Blewett Pass-top of mountain pass, WA', ' I-405 North-bound, between 124th and 160th, WA', ' Tinley Park/I-57 , IL', ' Winston-Salem, NC', ' I-84 exit about 1min off of highway., CT', ' I-84  , ID', ' Midway Island - Pacific Ocean, Other than USA', ' I-81 , TN', ' Union Deposit-Hoernerstown, PA', ' Deer Valley Airport-Phoenix , AZ', ' I-90 , WA', ' Cardiff-by-the-Sea, CA', ' Encinitas: along I-5, from encinitas to oceanside over ocean, CA', ' Newcastle-upon-Tyne , Other than USA', ' Theodore Roosevelt National Park exit 32 on I-94 North Dakot, ND', ' Texas highway 54 heading into NM - after crossing I-10, TX', ' Hwy I-40 , AZ', ' Meyers-Tahoe paradise, CA', ' Al - Jubail  , Other than USA', ' Thunder Bay -RR#3 , ON', ' Saddleback Fire Lookout- Tahoe Natl. Forest- Downieville Dis, CA', ' I-80 , UT', ' Pointe-Claire , PQ', ' U.S.Navy-USS Glover AGFF-1-Burmuda Triangle, Fla., Other than USA', ' Shortsville-Manchester, n.y. , ON', ' Lake Whitney  - 90 miles south/west of Dallas, TX', ' Prescott , 40 miles north-west of, AZ', ' I-10 , TX', ' In-flight/Europe, Other than USA', ' Barrow-in-Furness, Cumbria , Other than USA', ' Yuma  near I-8/Mexican border.  Proba, CA', ' Des Moines--4 blocks east of the Marina, Wash, WA', ' Woodburn  on I-5 North @mile post 265, OR', ' Put-in Bay, OH', ' NASA-INTERNET TV, TX', ' Sept-Iles , PQ', ' Onoway-Gunn , AB', ' Neb.-Mo. Line , MO', ' Stanwood - I-5 corridor, WA', ' SAINT LOUIS--CITY, MO', ' In-flighjt, Other than USA', ' Kailua-Kona, HI', ' St-Bruno , PQ', ' Knott - End. Fleetwood , Other than USA', ' Niagara-on-the-Lake , ON', ' Blood-Vein River , MB', ' Ferme-Neuve , PQ', ' Marske-by-Sea/Redcar/Cleveland , Other than USA', ' Weston-super-Mare , Other than USA', ' St-Jovite , PQ', ' Williamsport/Wilkes-Barre, PA', ' Clacton-On-Sea , Other than USA', ' Cadiz-Wallonia area, KY', ' Sainte-Suzanne , Other than USA', ' Alberta/3-34-83-8 w6m  , AB', ' Inder&oslash;y, Nord-Tr&oslash;ndelag , . Other than USA', ' Aarle-Rixtel , Other than USA', ' Bow-Edison, WA', ' St-Louis de Blandford , PQ', ' St-Jean-sur-Richelieu , PQ', ' Mt. Bethel/Pa-NJ border, PA', ' St.Leonards-on-Sea , Other than USA', ' Croton-on-Hudson, NY', ' Baie-Comeau  , PQ', ' St-Truiden , Other than USA', ' I-84 Westbound, MA', ' Roellen-Dyersburg area, TN', ' Niagara-On-The-Lake , ON', ' s-hertogenbosch , Other than USA', ' Woodland Hills-Canoga Park, CA', ' I-95, VA', ' I-355 , IL', ' Trois-Rivi&egrave;res , PQ', ' Agria - Volos , . Other than USA', ' I-90 , NY', ' Cluj-napoca , Other than USA', ' Curitiba - S of Brazil , Other than USA', ' Ste-Brigitte de Laval , PQ', ' Oud-Heverlee , Other than USA', ' Niagra-on-the-lake , ON', ' Yi-NING, Other than USA', ' Stoke-on-Trent , Other than USA', ' Gordes-Manisa , Other than USA', ' Chulucanas-Piura La Vieja , Other than USA', ' Wellington Cap-Egmont , PE', ' Herk-de-Staad , Other than USA', ' Kingston-upon-Hull , Other than USA', ' In-flight , TX', ' Cali-Buga , Other than USA', ' Al-Ain , Other than USA', ' Helsby-Cheshire , Other than USA', ' Vaudreuil-Dorion , PQ', ' Lapu-lapu , Other than USA', ' Sedro-Woolley, WA', ' Sirhind-Ambala , Other than USA', ' Interstate-5, CA', ' Wiltshire-Stonehenge , Other than USA', ' Tel-Aviv , Other than USA', ' Mont-Tremblant , PQ', ' Haarlem-Leiden , Other than USA', ' Highway I-70, MO', ' Samuel-/Bardstown, KY', ' Burnham-on-Crouch , Other than USA', ' St-Polycarp  , QC', ' Weona-Harrisburg-Waldenburg, AR', ' Near the NV/CA state line above the I-15, CA', ' I-395/Exit 97, CT', ' St-Hilaire , QC', ' Qui-Nhon , WA', ' I-5 , CA', ' Boyce-Sharp, LA', ' Interstate-95, RI', ' Ciel de St-R&eacute;mi , QC', ' St-R&eacute;mi , QC', ' Wood-Ridge, NJ', ' New-Wes-Valley , NF', ' Saint-Louis , NB', ' I-5 and Lerdo Highway, CA', ' Barstow-Baker, CA', ' Lemoore/I-5 corridor, CA', ' Leigh-on-sea , Other than USA', ' Kuala Lumpur - Wilayah Persekutuan , Other than USA', ' Kiriat-Yam , Other than USA', ' Joseph City-Winslow, AZ', ' I-5 North in Federal Way, WA', ' Saint-Laurent , QC', ' in-flight/unknown, Other than USA', ' Waterloo-Chelsea, MI', ' St-Philippe , QC', ' Gila Bend- Yuma Not certain , AZ', ' Jakarta-Tokyo , Other than USA', ' In-flight , MT', ' Ste-Martine , QC', ' Corry-Wattsburg, PA', ' I-40 West, mm 228, AR', ' Ahwatukee-Foothills , AZ', ' Toledo-Cleveland, OH', ' St-Hubert , QC', ' Mexi-Cali, CA', ' Yi-Ning City,  , Other than USA', ' Pacific Ocean/X-43a launch, Other than USA', ' Grants Pass-Murphy area, OR', ' Endicott-Vestal, NY', ' Laguna Beach-Newport Beach border, CA', ' Dallas-Frisco , TX', ' Morgantown-Martinsville area, IN', ' Oaklawn - Hickory Hills, IL', ' Potter-middile sex, NY', ' In-orbit , GA', ' Cehu-Silvaniei , Other than USA', ' Near Beth-Shemesh , Other than USA', ' Ampoita-ALBA , Other than USA', ' Tamil Nadu-cuddalore , Other than USA', ' Shoreham-By-Sea , Other than USA', ' In-flight , GA', ' I-495S/I-95S, VA', ' Monroe-Bastrop, LA', ' Vaudreuil-Dorion , QC', ' Hemptead-Brenham, TX', ' Eaton-Muncie, IN', ' Houston-College Station, TX', ' Osaka - Itami chome , Other than USA', ' Seika-cho  , Other than USA', ' Island Pond-Seymour Lake, VT', ' Ahmedabad-Vadodra Express Highway. Gujarat , Other than USA', ' St-Isidore , ON', ' Chicago- West Suburbs- Rt 171, IL', ' Campbelltown-Sydney , Other than USA', ' Basak Gate Lapu-Lapu City,Cebu , Other than USA', ' Spa-Francorchamps , Other than USA', ' Belo Horizonte-Minas Gerais , Other than USA', ' Wilkes-Barre/Taylor, PA', ' Dobron-Lodz , Other than USA', ' Gila Bend - 14 mile west of, AZ', ' Hove, Aldrington, Portslade-by-sea , Other than USA', ' Salem-Portland, OR', ' Sainte-Julie , QC', ' Dalton-in-Furness , Other than USA', ' Myrtle Beach-Cherry Grove, SC', ' In-flight , IL', ' Port-au-Prince , Other than USA', ' Port-au-Prince, Other than USA', ' Ink-O-Pah, CA', ' Arvana-Lamesa, TX', ' St-Bruno , QC', ' Konstancin-Jeziorna , Other than USA', ' Winston-Salem , NC', ' Dikaia-Evros , Other than USA', ' Carmel-by-the-Sea, CA', ' AL-gonfatha , Other than USA', ' Sainte-Therese , QC', ' Fort Collins-St. Louis, MO', ' Karues - Patras , Other than USA', ' Stratford-Upon-Avon , Other than USA', ' Manaus-Amazonas , AL', ' West Valley/I-80, UT', ' Lauderdale-By-The-Sea, FL', ' Newcastle-Upon-Tyne , Other than USA', ' Highland County - Monterey, VA', ' Cypress Hills - West Block , SK', ' Rockport-Fulton, TX', ' Wlkes-Barre, PA', ' Sainte-Anne of Madawaska , NB', ' Ste-Marguerite Lac Masson , QC', ' Ransbach-Baumbach , Other than USA', ' Ohio-Michigan border, OH', ' I-84 , ID', ' Mystic  - New Haven, CT', ' White Sand Missile Range - North Ocuro Peak, NM', ' Baird/ Putnam on I-20, TX', ' Tifton - Omega, GA', ' Ste-Justine de Newton , Other than USA', ' Bolivar - 170th &amp; 326th Road junction, MO', ' Columbia - Stephens Lake, MO', ' Sainte-Anne-du-Lac  , QC', ' Burton-on-Trent , Other than USA', ' Jounieh-Jabal Lebnen , Other than USA', ' Logan- Columbus, OH', ' Walden- Newburg, NY', ' Val-des-Monts , QC', ' I-10  , CA', ' I-65 , IN', ' Othello-Pullman, WA', ' Bellingham-Lummi, WA', ' Oregon on Interstate-5, OR', ' Thornton-Cleveleys , Other than USA', ' I-355 and 159th st, IL', ' Burton-In-Kendal , Other than USA', ' Haymarket-Gainesville, VA', ' Southend-on-Sea , Other than USA', ' Tracadie-Sheila , NB', ' In-flight sighting, Other than USA', ' Newcastle-under-Lyme , Other than USA', ' Bloomfield-Friendship , PA', ' I-70 , KS', ' Walton-on-Thames, Surrey , Other than USA', ' Norwood -Cincinnati, OH', ' Raleigh - Durham , NC', ' Cornwall-on-Hudson, NY', ' Barrow-In-Furness , Other than USA', ' Henley-in-Arden , Other than USA', ' Interstate 80/I-76;  into Colorado begins  NE', ' i-10e bound markers 2-65, NM', ' Marshfield-Webster Co, MO', ' Skarysko-Kamienna , Other than USA', ' Pampatar-Margarita Island , Other than USA', ' Ste-Brigitte-de-laval , QC', ' Rouyn-Noranda , QC', ' Manchester-by-the-sea, MA', ' Red Bluff - Dribble Creek Subdivision, CA', ' Rheinland-Pfalz , Other than USA', ' Hayward-Trego, WI', ' Pa&apos;akai Point- Mamalahoha Hwy, HI']\n",
            ". [' St. Augustine, FL', ' N. Judson, IN', ' St. Louis, MO', ' N. Providence, RI', ' S. Greensburg, PA', ' W. New Brunswick, NJ', ' Mt. Vernon, WA', ' Mt. Jackson, VA', ' Ft. Bragg, CA', ' N. Seattle, WA', ' Maryland Hts., MO', ' Mt. Ranch, CA', ' So. Cal., CA', ' W. Salem, OR', ' N. Kingston, RI', ' Ft. Dick, CA', ' Inspiration Pt., CA', ' Hwy. 18, WA', ' W. Chicago, IL', ' Inyo Co., CA', ' E. Los Angeles, CA', ' Green Co., TN', ' Mt. City, TN', ' Coober Pedy, S.A.  , Other than USA', ' St. Joseph, MO', ' Ft. Morgan, CO', ' Tehachapi Mtns., CA', ' E. Greenville, PA', ' St. Petersburg, FL', ' Wrightwood Mtn., CA', ' St. Cloud, MN', ' Rte. 40, CA', ' Cascade Mtns., WA', ' St. Johns, MI', ' St. George, UT', ' Ft. Collins, CO', ' St. Ignace, MI', ' St. Louis , MO', ' near St.Peters/St.Charles but too high to tell, MO', ' St. Charles, MO , MO', ' St. Charles, MO', ' Mt. Airy , NC', ' St. David, AZ', ' Jones Co.-Jasper Co. line, Hwy.15N, MS', ' Ft. Belvoir, VA', ' Washington, D.C., DC', ' East Mesa /Apache Junction., AZ', ' Historic St. Charles Riverfront, MO', ' St. Paul, MN', ' North Delta Municipality, B.C. , BC', ' Hazelwood/Florissant Uncorp., MO', ' Houtzdale R.D., PA', ' Scott A.F.B., IL', ' Caracas, D.F. , Other than USA', ' St. Thomas, , VI', ' E. Wenatchee, WA', ' Pacific Northwest - flying from Portland to L.A., Ca/Or, Other than USA', ' Mexicali B. C. Mexico; Sierra Cucapah; Cerro prieto., B. C., Other than USA', ' Kimball Twp. , MI', ' St.Helens, OR', ' Mt.Vernon, IL', ' St. Cloud , FL', ' St. Cloud, FL', ' Bedford--Mt. Kisco, NY', ' S. Beloit, IL', ' Mt. Vernon, NY', ' Mt. Vernon, OR', ' St. Clair Shores, MI', ' St. Paul, OR', ' Medicine Bow Natl. Forest , WY', ' Mt. Morris, PA', ' Washington, D.C. , DC', ' St. Helen, MI', ' St. Catharines , ON', ' Entering the city of Ervine from the South., CA', ' Vancouver , moving north to south., WA', ' Mt. Rainier north side, near Cateract Valley, WA', ' Mt. Baker, WA', ' Mt. Charlston, NV', ' St. Petersburg , FL', ' St. George  to Las Vegas , UT', ' St. Charles , IL', ' I-84 exit about 1min off of highway., CT', ' Miami Twp., OH', ' Washington C.H., OH', ' St. Marys, NSW  , Other than USA', ' Port St. Lucie, FL', ' Bejuma, Edo. Carabobo, Caracas , Other than USA', ' Central U.S. , ND', ' St. Louis County, MO', ' East Winn/Winn., ME', ' St. Austell, Cornwall , Other than USA', ' Mt. Horeb, WI', ' Davis Jct. , IL', ' N. Waterboro, ME', ' Marysville/Beale A,F.B., CA', ' Mt. Popocatepetl , Other than USA', ' St. Peters, MO', ' Mt. Holly Springs , PA', ' St. Louis Park, MN', ' St. Peter, MN', ' Mt. Kisco, NY', ' St. Croix Falls, WI', ' E. Falmouth, MA', ' West Coast, alt. apx 30&apos; k, northerly flight, CA', ' Johnson Park, NE CA.,Shasta Co., calif, CA', ' Grantsville, W.V., WV', ' Saratoga Lake Saratoga Springs, N.Y., NY', ' Lake Henshaw/La Jolla Indian Res. , CA', ' Snohomish Co. , WA', ' Washington, D.C. , VA', ' Hwy. 90, SD', ' Mt. Airy, NC', ' Dallas/Ft. Worth , TX', ' Fort A.P. Hill/ Bowling Green, VA', ' St. John&apos;s , Other than USA', ' Medina Co., OH', ' St. Louis Airport , MO', ' Cedar City/St. George , UT', ' Savoonga,St. Lawrence Island, AK', ' Sault Ste. Marie , ON', ' St. Marys, WV', ' Interstate between C. Girardeau, MO &amp; Cairo, IL, MO', ' Charlotte Cty to Sarasota on Hwy. 75, FL', ' Saddleback Fire Lookout- Tahoe Natl. Forest- Downieville Dis, CA', ' St. John&apos;s , NF', ' St. Joseph, MI', ' U.S.Navy-USS Glover AGFF-1-Burmuda Triangle, Fla., Other than USA', ' Raquette Lake, adirondack mts., NY', ' Shortsville-Manchester, n.y. , ON', ' St. George/Hill, UT', ' London/St.Thomas , ON', ' San Diego Co. , CA', ' Mt. Weather, VA', ' Mt. Washington, KY', ' St. Louis  , MO', ' St.Charles, IL', ' Mexico, Distrito Federal, D.F. , Other than USA', ' Ft. Scott , KS', ' Jay Co. into Wells Co. , IN', ' Hwy. 15 /Hwy. 72 intersection, 1 mi. E of, MS', ' Las Vegas Blvd., NV', ' FROM SR 41 S. AND  MIAMI TRACE RD. TO SR 41S AND SR 753. IT , OH', ' Ft. Huachuca, AZ', ' St. Agnes de Dundee , PQ', ' Dallas /Ft. Worth area, South of the, TX', ' Pocono Mts., PA', ' Onodaga twp., MI', ' Placentia Jct. , NF', ' Mt.Pleasant, IA', ' Mexico City, D.F. , Other than USA', ' Salisbury, Wilts. , Other than USA', ' Minneapolis/St. Paul, MN', ' Cantwell ; Clearwater Mtns., AK', ' St. Robert/Fort Leonard Wood, MO', ' Yuma  near I-8/Mexican border.  Proba, CA', ' Fort. Deposit, AL', ' Silver Spring Twp., PA', ' Union City  on Hwy. 138, GA', ' Abilene and Ft. Worth , TX', ' Mt. Vernon, IN', ' Albert Falls Dam/Reserve Ntl , . Other than USA', ' Mt. Juliet, TN', ' Athens , . Other than USA', ' Sault Ste. Marie, MI', ' Widdrington/Morpeth, Northumberland., Other than USA', ' Neb.-Mo. Line , MO', ' , . Other than USA', ' Beirut, . Other than USA', ' St. Peter , MN', ' St. George Island, FL', ' Mt. Vernon, VA', ' Bloemfontein , . Other than USA', ' Valley Park area of St. Louis, MO', ' Granite/East St. Louis, IL', ' Aurangabad.Maharashtra , Other than USA', ' Mt. Isa , Other than USA', ' St. James City, FL', ' Brits, . Other than USA', ' Albi , . Other than USA', ' n45 27.944   w088 23.691, WI', ' Mt.Vernon, WA', ' St. Agatha, ME', ' St. Maries, ID', ' Glendale Hts., IL', ' Mt. Pleasant/Texarkana , TX', ' Mt. Charleston, NV', ' Knott - End. Fleetwood , Other than USA', ' Ansbach , . Other than USA', ' St. Andrews , ON', ' Roscoe and Ft. Justice , TX', ' Ahmedabad , . Other than USA', ' Mt. Popocatepetl  Live Cam, Other than USA', ' Mt. Lincoln , VT', ' Miami to St. Paul , IL', ' St. Thomas , ON', ' St. George, SC', ' St. Albans , Other than USA', ' St. Albans, WV', ' Ft. Hauchuca, AZ', ' B&uuml;nde  , . Other than USA', ' Campana , . Other than USA', ' Ambala , . Other than USA', ' Fort A.P. Hill/Bowling Green, VA', ' Ft. Gardens, GA', ' Altona Meadows , . Other than USA', ' Central U. S. , Other than USA', ' Caicara , . Other than USA', ' Bangalore , . Other than USA', ' Budapest , . Other than USA', ' Bombay , . Other than USA', ' Antwerp , . Other than USA', ' Clinton TWP., MI', ' Mt. Pocono, PA', ' St. Ann, MO', ' Mt. Laguna, CA', ' Patra , . Other than USA', ' St. Paul/Minneapolis, MN', ' Cozumel , . Other than USA', ' Aguascalientes , . Other than USA', ' Aschersleben , . Other than USA', ' St. Petersburg , Other than USA', ' Co.Durham , Other than USA', ' Bahia de Los Angeles  , . Other than USA', ' Karaganda, . Other than USA', ' Mt. Baker National Forest, WA', ' Weissenburg , . Other than USA', '  Not certain , . Other than USA', ' Sykia.Halkidiki , Other than USA', ' Seattle, . Other than USA', ' Inder&oslash;y, Nord-Tr&oslash;ndelag , . Other than USA', ' Debrecen , . Other than USA', ' Bierenbachtal , . Other than USA', ' St.Johns, MI', ' St. Johnsville, NY', ' Sotira, . Other than USA', ' Mt. Morris, MI', ' St. Florian, AL', ' Mosj&oslash;en , . Other than USA', ' Singapore, . Other than USA', ' Arica , . Other than USA', ' St. Louis , PQ', ' Anguilla, . Other than USA', ' Bermuda NAS, . Other than USA', ' Assouan , . Other than USA', ' Mt. Bethel/Pa-NJ border, PA', ' San Bernardino Co. , CA', ' St.Leonards-on-Sea , Other than USA', ' S. Bossier, LA', ' W. Rutland, VT', ' SE Oregon, NW Nevada or NE California border., OR', ' Belgium, . Other than USA', ' Bremen , . Other than USA', ' St. Albert , ON', ' Jamestown  dist., NC', ' St. Louis area, MO', ' Mt. Morris Township, MI', ' St. Albert and Cassleman  , ON', ' St. Lucia, Other than USA', ' Caldicot , . Other than USA', ' St.Charles, MI', ' Harrison &amp; Mt.Plesent , MI', ' Mt. Carmel, PA', ' Mt. Hope, WI', ' Blankenberge , . Other than USA', ' Sault Ste. Marie , MI', ' St. Laurent , PQ', ' Puerto Penasco / N. Sea of Cortez , Other than USA', ' West. Simsbury, CT', ' Berlin , . Other than USA', ' St. Helens, OR', ' Athens, . Other than USA', ' Nr. Resende/ Rio de Janeiro State , Other than USA', ' North St. Paul, MN', ' Byblos, . Other than USA', ' Cairo , . Other than USA', ' Mt. Carmel campgrounds, SC', ' Clark A.F.B , Other than USA', ' St. Annes , Other than USA', ' Allahbad , . Other than USA', ' St. George Island, AK', ' Belgrade  , . Other than USA', ' Mt. Pleasant, MI', ' Ft. Morgan , DC', ' Agria - Volos , . Other than USA', ' Colonia St. Jordi , Other than USA', ' St. Neots , Other than USA', ' Bry sur Marne   , . Other than USA', ' Bahamas, . Other than USA', ' Mt. Juliet  , TN', ' Lebanon Jct., KY', ' St.Rose, IL', ' On the Mass Pike: Rt. 90, MA', ' Algiers , . Other than USA', ' Ft. Smith, MT', ' S.M, CA', ' Brixham.Devon  , Other than USA', ' Br&uuml;hl , . Other than USA', ' St. Clairsville, OH', ' St.Marys, Ontario , ON', ' St. Cloud , MN', ' Brussels  , . Other than USA', ' Ft. Fairfield, ME', ' Mt. Holly , PA', ' St. Helens , Other than USA', ' Whangaparaoa. Auckland , Other than USA', ' Calcutta , . Other than USA', ' Cancun, Q.R. , Other than USA', ' Ft. Thompson, SD', ' Baku , . Other than USA', ' Mt. Holly Springs, PA', ' N. Charleston, SC', ' Mazarron. Murcia , Other than USA', ' Rio de Janeiro , . Other than USA', ' Dungannon  Co Tyrone , . Other than USA', ' St. James, NY', ' St.Regis , PQ', ' Birmingham , . Other than USA', ' Kiev , . Other than USA', ' Auckland , . Other than USA', ' Bristol , . Other than USA', ' St. Simons Island, GA', ' Fort.St.James , BC', ' Bensheim , . Other than USA', ' Byron Bay , . Other than USA', ' Sheffield , . Other than USA', ' Boughton, Kent , . Other than USA', ' Ft. Collins/Loveland, CO', ' Canberra , . Other than USA', ' St. Albert , AB', ' Fakenham, Norfolk  , . Other than USA', ' N./A, TX', ' Hazelton, B.C.  , BC', ' Broken Hill , . Other than USA', ' Burgess Hill , . Other than USA', ' St. Clair , PA', ' Faisalabad , . Other than USA', ' Mudgee , . Other than USA', ' Ellesmere Port , . Other than USA', ' Doncaster , . Other than USA', ' Newcastle , . Other than USA', ' Mt. Gilead, OH', ' UK/England, . Other than USA', ' Bognor Regis , . Other than USA', ' London , . Other than USA', ' Egypt , . Other than USA', ' Mt.Morris, NY', ' Colchester , . Other than USA', ' Reading , . Other than USA', ' Leuven , . Other than USA', ' New Zealand, . Other than USA', ' St. Croix , Other than USA', ' Pietermaritzburg  , . Other than USA', ' d.d.o , PQ', ' Caracas , . Other than USA', ' Barvaux , . Other than USA', ' St. Williams , ON', ' Los Angeles/Angeles Natl. Forest, CA', ' St. David , IL', ' Ft. Smith, AR', ' Portage Dunning Rs. , WI', ' C.B.R.M. , NS', ' Healesville. Victoria , Other than USA', ' St.Thomas , ON', ' Fort St. James , BC', ' Roberts Creek Mtn. , NV', ' Mt. Prospect, IL', ' Mt. Rainier Nat&apos;l Park , WA', ' St. Laurent , MB', ' South St. Paul, MN', ' Ft. Campbell, KY', ' Intersection of Hwy. 395 and 85, CA', ' Yermo/Ft. Irwin, CA', ' Ask not to give this out., MN', ' Ft. Dix , NJ', ' Winnamucca/Lovelock., NV', ' Mt. Hood, OR', ' St. Clair, MO', ' N. Ridgeville, OH', ' Yokota A.F.B., Other than USA', ' St. Andrews , Other than USA', ' St. Julie , QC', ' F. Cortaleza , Other than USA', ' Tijuana B.C. , Other than USA', ' Bay St. Louis, MS', ' St. Laurant , MB', ' Mt. Katahdin area, ME', ' Pt. Orchard, WA', ' Yosemite N.P., CA', ' So. Farmingdale, NY', ' l.as Vegas, NV', ' Ft. Yukon, AK', ' St.Catharine&apos;s , ON', ' Mt. Vernon, IL', ' St. Petersburg Beach, FL', ' St. Paul Park, MN', ' No. Hollywood, CA', ' Mt. Springs , TX', ' Midwest U. S. , Other than USA', ' St. George , ON', ' St. Charles, ID', ' St. James, MO', ' U. S. Air Force base , FL', ' N. Everett, WA', ' Southwest U. S., Other than USA', ' Mt. Lassen, CA', ' Worthington St. Forest, NJ', ' St.Helens , Other than USA', ' Mt. Morris, NY', ' Mt. Morgan, struckoil, Queensland , Other than USA', ' St. Paul , MN', ' Hwy. 6 &amp; 68 , MB', ' Midwest U. S., OH', ' St. Francis, KS', ' Charleston/Mt. Pleasant, SC', ' Ft. Shawnee, OH', ' St. Georges , MB', ' Ft. Lee, VA', ' Tamaulipas/Rancho Los Lopez/ Lake Marte R. Gomez, Other than USA', ' Kelso/Pt. Townsend, WA', ' Mt. St. Helens Volcano, WA', ' St. Helier, Jersey  , Other than USA', ' St. Ignatius, MT', ' Mt. Gilead, NC', ' Windsor Co. , VT', ' Mt. Union, PA', ' Middleburg Hts., OH', ' West St. Paul, MN', ' St. Bernard&apos;s , NF', ' Mt. Pleasant, WI', ' St. Thomas, PA', ' Mt. Rogers , VA', ' St. Marys, PA', ' St. Joseph, MN', ' Ft. Dix, NJ', ' St. Austell , Other than USA', ' N. Cambria, PA', ' St. Albert, and Wabasca , AB', ' St. Charles, KY', ' St. Michaels, AZ', ' Jacksonville to Ft. Pierce, IL', ' Jacksonville/Ft. Pierce, FL', ' St. Charles, IN', ' Mt. Dora, FL', ' M. Fokani/Hims , Other than USA', ' Mt. Pleasant, PA', ' Keen Mtn., VA', ' St. Clair, PA', ' No.Hollywood, CA', ' Mt. Pleasant, SC', ' Ahmedabad-Vadodra Express Highway. Gujarat , Other than USA', ' Sault Ste. Marie      ON', ' Mt. Lookout, WV', ' Mt. Royal, NJ', ' Near Ft. Resolution , NT', ' Lytham St. Annes , Other than USA', ' Kings Mtn., NC', ' Marion/P.G. area, NC', ' San Luis, R.C. /Yuma, AZ, Other than USA', ' W. Wendover, NV', ' Ft. Mcpherson , NT', ' E. Northport, NY', ' N. Cascades Nat. Park, WA', ' U. S. Navy cruiser , Other than USA', ' Ft. Wayne , IN', ' St. Johns , NF', ' N. Montpelier, VT', ' St. Louisville, OH', ' Molly Stark St. Park , VT', ' Between Jackson Fla. &amp; Atlanta Ga., GA', ' Lr. Sackville , NS', ' Chula Vista campground parking lot, Mt. Pinos, CA', ' St. Helens  , Other than USA', ' Gila Indian Reservation &amp; S. Chandler, Ocotillo area, AZ', ' Quonsett Pt. NAS, RI', ' St. Charles, IL', ' Port St. Joe, FL', ' Washington, D.C.  , VA', ' Midwest U. S. , MD', ' San Bernadino Mtns. , CA', ' Ft. Irwin, CA', ' Ft. Stewart, GA', ' St.Thomas , Other than USA', ' St. Ansgar, IA', ' St. Michaels, MD', ' Ft. Drum/Okeechobee, FL', ' Mt. Hood, WA', ' USS Providence/U.S. Navy vessel , Other than USA', ' St. Joseph City, AZ', ' Gurnee/Waukegan/N. Chicago, IL', ' St. Bonifacious, WI', ' St. Johnsbury, VT', ' Mt. Carmel, IL', ' Sugarloaf Mtn., MD', ' Mt. Comfort, IN', ' U.S.S. San Juan , FL', ' Sierra Vista/Ft. Huachuca, AZ', ' St. Thomas , Other than USA', ' Millstone Twp., NJ', ' St. Thomas, MO', ' St. Francis, WI', ' Lancaster ., MS', ' St. Bernardin , ON', ' Ft. Lauderdale, FL', ' Signal Mtn., TN', ' Fort Collins-St. Louis, MO', ' Fancy Gap Mtn. , VA', ' St. George, ME', ' Mt. Rainier National Park, WA', ' St.Petersburg, FL', ' Ft. Lupton , CO', ' St. Bruno , QC', ' Mt. Palomar, CA', ' Mt. Olive, WV', ' St. Marys, GA', ' St. Maarten , Other than USA', ' St. Helier  , Other than USA', ' K.maras, Other than USA', ' Ft. White, FL', ' Phila./Camden, PA', ' Ft. Leonard Wood, MO', ' St. Louis, MO &amp; Columbia, IL, MO', ' U. S. Virgin Islands , Other than USA', ' Mt. Springs, TX', ' Ft. Pierce, FL', ' Ft. Walton Beach, FL', ' St. Albans, VT', ' Willimantic/N. Windham, CT', ' Ft. Carson, CO', ' Mt. Laurel, NJ', ' Mt. Olive, MS', ' Mt. Sinai, NY', ' P. Lakes, FL', ' N.Windham/ Willimantic, CT', ' Ft. Myers Beach , FL', ' S. Dartmouth, MA', ' Mt.Olive, MS', ' Mt. Airy, MD', ' Mt. Sterling, KY', ' Mt. Dora, NM', ' St. George , UT', ' N. Cape May, NJ', ' Ft. Myers, FL', ' Ft. Gordon, GA', ' Surry Co., VA', ' Mt. Sterling, OH', ' Ft.Campbell, KY', ' Berkley Twsp., NJ', ' Mt. Washington, NH', ' Charles City Co./Henrico , VA', ' Ft. Benning, GA', ' Belmar and Wall Twp., NJ', ' Washington D.C., Other than USA', ' N. Hollywood, CA', ' St. Robert, MO', ' Ft. Jackson, SC', ' N. Myrtle Beach, SC', ' Mt. St. Helens, WA', ' St. Pierre Jolys , MB', ' South St. Louis, MO', ' N. Yorkshire , Other than USA', ' Ft. Stockton, TX', ' St. Davids, PA', ' Mohawk Valley Mtns., AZ', ' Haydock, St. Helens , Other than USA', ' Westbury, L.I., NY', ' St. George, WV', ' S. Charleston, OH', ' N. Ft. Myers, FL', ' St. George , Other than USA', ' Ft. Knox, KY', ' St. Paul&apos;s area, NC', ' Harrison Twp., MI', ' Logansport/Kokomo., IN', ' Bury St. Edmunds , Other than USA', ' Ft. Lauderdade, FL', ' Ft. Bragg, NC', ' Mt.Rainier/Paradise, WA', ' Interstate 80.  Between York, Nebraska and Aurora, Nebraska , NE', ' Ft. Mitchell, KY', ' Ft. Gratiot, MI', ' Mt. Etna volcano , Other than USA', ' Mt. Snowdon , Other than USA', ' Valley View Hot Springs near crestoneCO., CO', ' Ft. Wayne, IN', ' North of Pt. Barrow, AK', ' St. Thomas  , Other than USA', ' USS John F. Kennedy , Other than USA', ' Pt. Pleasant/Southside , WV', ' Mt. Vernon, OH', ' St. Clair, MI', ' Ft. Meade , MD', ' St. Helena Bay , Other than USA', ' Robinson Twp./Pittsburgh Area, PA', ' St. Paul&apos;s, NC', ' Mt. Clemens, MI', ' Ft. Worth, TX', ' Chicago/Mt. Greenwood, IL', ' Ft. Buchanan , Other than USA']\n",
            "/ [' MM 99 mile Exit/I-5, WA', ' New York City/Brooklyn, NY', ' Fresno/Stockton , CA', ' Lynnwood/Alderwood Manor, WA', ' Rockford/Belvedere , IL', ' Provo/Orem/Salt Lake City, UT', ' near St.Peters/St.Charles but too high to tell, MO', ' Seymore/Farmer City/Weldon area, IL', ' Kingsman/Hoover Dam , AZ', ' Jasper/Hinton Aiport , AB', ' Loredo/Eagle Pass , TX', ' Loveland/Estes Park , CO', ' Detroit/Warm Springs , OR', ' Austin/Eureka , NV', ' Reno/Sparks, NV', ' Bismarck/Caddo Valley , AR', ' Rome/Armuchee , GA', ' Fos sue Mer/Salon de Provnce  , Other than USA', ' Dallas/Ft Worth , TX', ' Kingsford/Green Bay , WI', ' Prairie du Sac/Merrimac , WI', ' Alaska Airlines/Sea-Tac to Anchorage , BC', ' Georgtown/Idaho Springs , CO', ' Quartz Hill/Lancaster, CA', ' East Mesa /Apache Junction., AZ', ' MM82/MM83 , PA', ' McKinlyville/Eureka , CA', ' Westboro/Marlboro, MA', ' Exeter/Kingston, NH', ' Coolidge/Casa Grande , AZ', ' Hazelwood/Florissant Uncorp., MO', ' Toledo/Maumee, OH', ' Deerhorn Valley/Jamul, CA', ' Adrian/Jackson , MI', ' UK/Northern Ireland, Other than USA', ' Wichita/Rose Hill, KS', ' inflight/from  Air France jet, MD', ' Pacific Northwest - flying from Portland to L.A., Ca/Or, Other than USA', ' Holstein/Heartwell , NE', ' Rose Hill / Wichita, KS', ' Boston Location/Hancock, MI', ' Fort Pierce/Orlando , FL', ' Lafayette/Moraga , CA', ' Wimborne/Dorset, Dorset , Other than USA', ' New York City/Bronx, NY', ' East Brunswick/South River, NJ', ' Cannon AFB/Clovis, NM', ' Baker/Las Vegas , CA', ' Trumann/Jonesboro, AR', ' Novato/Petaluma area, CA', ' San Diego/North County, CA', ' Emporia/Topeka , KS', ' Ronan/Polson , MT', ' Apex/Holly Springs , NC', ' Bellevue/Issaquah, WA', ' Las Vegas/Nellis AFB, NV', ' Huffman/Atascacita area, TX', ' Bailey/Fairplay , CO', ' Ann Arbor/Ypsilanti, MI', ' Monterey Bay/Fort Ord Rifle Range, CA', ' Bishop/Benton, CA', ' Goat Island/Isle of Palm , SC', ' Lake Travis/Austin, TX', ' Randle/Packwood , WA', ' Burien/SeaTac, WA', ' Lock Haven/Renova, PA', ' Lochbuie/Brighton, CO', ' Oxnard/Camarillo , CA', ' Tinley Park/I-57 , IL', ' Rockland/Westchester Counties, NY', ' Lompoc/Vandenberg AFB, CA', ' UK/Scotland, Other than USA', ' Polson/Pablo, MT', ' Hudson Valley, NY/Danbury, CT , CT', ' Marina del Rey/Los Angeles, CA', ' Baker/Stateline , CA', ' Excelsior Springs/Kearney , MO', ' Danialson/New Haven , CT', ' Killeen/Willow Springs , TX', ' Orangeville/Lena/McConnell , IL', ' Paradiseand/Pentz , CA', ' Ravenna/Macedonia , OH', ' Sikeston/Morley , MO', ' Dallas/, TX', ' Sierra/Plumas Counties , CA', ' Las Vegas/Montezuma, NM', ' Anchorage/Girdwood, AK', ' Scott AFB/Centralia , IL', ' East Winn/Winn., ME', ' Pendleton/Athena , OR', ' Fleetwood/Dryville, PA', ' Nevada City/North San Juan  , CA', ' Bradenton/Palmetto, FL', ' Marysville/Beale A,F.B., CA', ' Quartsite/Phoenix, AZ', ' Germantown/Frederick  , MD', ' Austin/San Marcos, TX', ' Hallandale/Hollywood, FL', ' Rome /Cedar Bluff , GA', ' Milford/Milton , DE', ' Pontoto/Thaxton , MS', ' Pomona/LaVerne, CA', ' Sheboygan Falls/Kohler, WI', ' Covington/Kent, WA', ' Green Bay/Minomonee, WI', ' Bangor/Falmoth , ME', ' Bellevue/Mercer Island , WA', ' Rawalpindi/Islamabad , Other than USA', ' Utrecht/Amsterdam  , Other than USA', ' Arizona /New Mexico Not certain  Not certain , AZ', ' Lake Henshaw/La Jolla Indian Res. , CA', ' Golden Shores/Topock, AZ', ' Pleasanton/Dublin, CA', ' Beechnut/west loop south, TX', ' Seattle/Renton, WA', ' Brigham City/Ogden , UT', ' UK/England, Other than USA', ' Santa Margarita/Atascadero , CA', ' Malmoe/Copenhagen, Sk&aring;ne , Other than USA', ' Raymond/Epping, NH', ' Lincoln City/Newport , OR', ' Gallup/Albuquerque , NM', ' Hayti/Kennett , MO', ' Green Acres/Coos Bay , OR', ' Paul/Burley , ID', ' New York City/Staten Island, NY', ' Bettendorf/Davenport, IA', ' Dallas/Ft. Worth , TX', ' Rocky Point/Hampstead , NC', ' Fort A.P. Hill/ Bowling Green, VA', ' Monroe/Snohomish, WA', ' Kansas City/Emporia , KS', ' Kent/Renton, WA', ' Yuma/Tacna, AZ', ' La Verne/Pomona, CA', ' The Colony/Lewisville Lake , TX', ' Cedar City/St. George , UT', ' Moultrie/Doerlin , GA', ' Tracy/Patterson , CA', ' Sun City/Menifee, CA', ' Kaslo/Nelson area , BC', ' Rio Rancho/Bernillo , NM', ' Snake Creek/Great Basin National Park, NV', ' Newburg/Shippensburg, PA', ' Shasta/Sand Flat, CA', ' Hartsdale/White Plains, NY', ' Galva/Victoria/Oak Run, IL', ' Two Rivers/ Shoto/ Rockwood , WI', ' Paramus/Teaneck, NJ', ' Frankfort/New Lenox, IL', ' Orwigsburg/Deer Lake Area, PA', ' Fair Oaks/Sacramento, CA', ' Victor/Teton Mountain Range, ID', ' Santa Cruz/Loma Prieta , CA', ' Wilsonville/Canby, OR', ' Witchita Falls/Ft Worth , TX', ' Killeen/Fort Hood, TX', ' Endicott/Binghamton, NY', ' Rochester /to LaCrosse   , MN', ' Live Oak/Pensacola , FL', ' St. George/Hill, UT', ' Rancho Cordova, just east/southeast of Sacramento, 2 miles f, CA', ' Florien/Hornbeck , LA', ' London/St.Thomas , ON', ' New York City/Central Park, NY', ' Los Angeles/Atlanta , GA', ' Orland Park/Palos Park, IL', ' Burlingame/San Mateo , CA', ' Fair Oaks/Rancho Cordova, CA', ' Winnemucca/Lovelock , NV', ' Battle Ground/Vancouver, WA', ' Maryville/Sevierville, TN', ' Tigard/Tualatin, OR', ' Pueblo/Colorado Springs , CO', ' Bridgeport/Stamford, CT', ' Fremont/Clyde, OH', ' Hudsonville/Ottawa , ON', ' Ritzville/Cheney , WA', ' East Rutherford/Secaucus, NJ', ' Hwy. 15 /Hwy. 72 intersection, 1 mi. E of, MS', ' Lake Whitney  - 90 miles south/west of Dallas, TX', ' Keys/Ceres , CA', ' Kennesaw/Marietta, GA', ' Groveland/Dillion , IL', ' Sixes/Port Orford , OR', ' Norfolk/Nob, VA', ' Mountain Grove/Cabool, MO', ' Toledo/Salkum , WA', ' Timberline Lodge/Mt Hood, OR', ' San Rafael/ Vallejo/ Fairfield, CA', ' Norfolk/Newport News , VA', ' New York/Philadelphia , NY', ' Dallas /Ft. Worth area, South of the, TX', ' Paris / Arc de Triomph , Other than USA', ' Kent/Warren , CT', ' Browns Valley/Marysville , CA', ' Sprague/Ritzville , WA', ' Mohrsville/Centerport, PA', ' Lincoln City/Albany , OR', ' In-flight/Europe, Other than USA', ' Rachel/Las Vegas, NV', ' Alameda Naval Air Station/Marine Corp Air Wing Bubble, CA', ' Den Helder/Texel , Other than USA', ' Brewster/Carmel, NY', ' Staten Island/New Jersey, NY', ' Dundee/ Lake Wales, FL', ' Buffalo/Amherst, NY', ' Waterford/Chislehurst, NJ', ' Highlands/Sandy Hook area, NJ', ' Spansh Cay/Abcos Inlands  , Other than USA', ' Minneapolis/St. Paul, MN', ' Dallas/Grant Counties, AR', ' Gold Bar/Index , WA', ' Flushing/Queens, NY', ' Kampung Gobek/Tanah Merah , Other than USA', ' Riverside/Palm Springs , CA', ' Venice/North Port, FL', ' Harbor City  / San Pedro, CA', ' Anamosa/Cedar Rapids , IA', ' York Mills/Leslie  , ON', ' St. Robert/Fort Leonard Wood, MO', ' Yuma  near I-8/Mexican border.  Proba, CA', ' Cleveland/Euclid, OH', ' Dallas/Duncanville area, TX', ' Hooker/Guymon , OK', ' Elko/Carlin , NV', ' Springdale/Fayetteville, AR', ' Tulsa/Oklahoma City , OK', ' Truckee/Lake Tahoe area, CA', ' Port Everglades/Fort Lauderdale, FL', ' Reno/Carson City , NV', ' Glendale/Eagle Rock , CA', ' Atlanta/Dobbs AFB, GA', ' Albert Falls Dam/Reserve Ntl , . Other than USA', ' Chandler/Gilbert, AZ', ' New York/San Francisco , NY', ' Little Chute/Appleton, WI', ' Marinette/Menominee, WI', ' Widdrington/Morpeth, Northumberland., Other than USA', ' Henderson/Oxford, NC', ' Cahokia/Granite City, IL', ' Santa Rosa/Forestville, CA', ' Portland/ Boise , OR', ' Otis/Lincoln City, OR', ' Redland/Estacada, OR', ' Sterling Heights/Troy /ClintonTwp, MI', ' Kota Kinabalu/Sabah , Other than USA', ' Lordsburg/Deming, NM', ' Gilbert/Mesa/Chandler, AZ', ' Sterling/Troy/Clinton Township, MI', ' Granite/East St. Louis, IL', ' Channing/Littlefield , TX', ' Centralia/Walnut Hill area, IL', ' Ironton/Wayne National Forest , OH', ' LeMars /Denver  , NE', ' New York City/Manhattan, NY', ' Santa Barbara/ Highway 154, CA', ' Stonglandseidet/M&oslash;lnelva , Other than USA', ' Seattle/Tacoma, WA', ' Ilford/Harwich , Other than USA', ' Swan Falls/Kuna, ID', ' Conyers/Walton area, GA', ' Bloomington/New Unionville , IN', ' Mt. Pleasant/Texarkana , TX', ' Anderson/Redding, CA', ' Union/Pullman/Whitman county, WA', ' Beaumont/Moreno Valley, CA', ' Murdock/Port Charlotte, FL', ' Mexborough/South Yorkshire , Other than USA', ' Selinsgrove/Williamsport , PA', ' Gold Bridge/Lilleot  , BC', ' Bedford/Carlise, MA', ' Wheaton/Kensington, MD', ' Lemoore/Hanford, CA', ' La Paz/Cochabamba/Potosi, Other than USA', ' Mount Hope/Binbrook , ON', ' Ormond Beach/Daytona Beach, FL', ' Chandler/Queencreek, AZ', ' Penn Valley/Lake Wildwood, CA', ' Fort A.P. Hill/Bowling Green, VA', ' Cold Lake/Sherridon , MB', ' Marske-by-Sea/Redcar/Cleveland , Other than USA', ' Pickens/Pumpkintown, SC', ' Tucson/Marana, AZ', ' Collingwood/Wasaga Beach , ON', ' Las Vegas/Henderson, NV', ' Ogden/Clinton, UT', ' Morristown/Ogdensburg, NY', ' St. Paul/Minneapolis, MN', ' Bellside/Wishaw , Other than USA', ' Watchung/Warren, NJ', ' Williamsport/Wilkes-Barre, PA', ' New York City/Far Rockaway, NY', ' Norfolk/Sizewell , Other than USA', ' Round Rock/Georgetown, TX', ' Malaysia/Ringgit, Other than USA', ' Lamar/Las Animas, CO', ' Alberta/3-34-83-8 w6m  , AB', ' Louisville /Henryville , KY', ' San Jose/Gilroy/Salinas, CA', ' Orono/Bangor, ME', ' Tampa/Nashville  , GA', ' Tarpon Springs/Clearwater, FL', ' Franconia Notch/White Mountains, NH', ' Malad/Downy, ID', ' Bjursas/Falun , Other than USA', ' Santa Ana/Garden Grove, CA', ' Mullens/Pineville, WV', ' Perkins/Carney, OK', ' Mounds View/Blaine, MN', ' Greensburg/Delmont , PA', ' Riyadh/ Saudi Arabia, Other than USA', ' PA/NY, PA', ' Derby/Leicester border , Other than USA', ' Mt. Bethel/Pa-NJ border, PA', ' Palo Alto/Stanford, CA', ' Vienna/Williamstown, WV', ' Pico Rivera/Paramount, CA', ' Cornelius/North Plains area, OR', ' Las Vegas/Truth or Consequences , NM', ' Desoto/Overland Park , KS', ' Beaumont/Sour Lake, TX', ' Richmond/Bowdoin, ME', ' Ellensburg/Thorp, WA', ' Spartanburg/Greenville , SC', ' Hingham/Rockland, MA', ' Crewe/Cheshire , Other than USA', ' Meriden/Wallingford, CT', ' Datil/Magdalena , NM', ' Wilcox/Benson , AZ', ' Sarawak/Miri , Other than USA', ' Tempe/Phoenix , AZ', ' Olympia/Shelton, WA', ' Puerto Penasco / N. Sea of Cortez , Other than USA', ' Russellville/Dover, AZ', ' Lone Pine/Cartago , CA', ' Nr. Resende/ Rio de Janeiro State , Other than USA', ' Pacifica/Lindamar, CA', ' Collinsville/Granite City, IL', ' Phoenix/Glendale, AZ', ' East Petersburg/Manheim, PA', ' New York/Queens, NY', ' Bradford/Baildon Moor , Other than USA', ' Monterey/Seaside, CA', ' Dublin/Radford , VA', ' Socorro/Belen , NM', ' Petaluma/Sausalito, CA', ' Arnes/Gimli   Not certain  Not certain  , MB', ' Aurora/Woodburn, OR', ' Gaithersburg/North Potomac, MD', ' Martinsville/Mooresville, IN', ' Ruggles Beach/Huron, OH', ' Victoria/Port Angeles  , BC', ' Bluefield/Green Valley, WV', ' Petaling Jaya/Selangor , Other than USA', ' Willernie/Stillwater, MN', ' Williamstown/Hammonton, NJ', ' Dominican Republic/North Coast, Other than USA', ' Oak Hill/Elmwood/Brimfield, IL', ' Talbot/Boswell/Chase/Oxford, IN', ' Gray/Johnson City, TN', ' Las Gaviotas/Baja California , Other than USA', ' San Pedro/Long Beach, CA', ' Raton/Pueblo , CO', ' Lebanon/Brownsville, OR', ' Hydetown/Townville , PA', ' Meriden/Wallingford , CT', ' Port Charlotte/Punta Gorda area, FL', ' Turks/Caicos, Other than USA', ' Kent/Setac, WA', ' Monrovia/Arcadia/Auarte area, CA', ' Lafayette/Walnut Creek, CA', ' Enid/Tulsa , OK', ' Aztec/Farmington, NM', ' Irons/Harper Lake, MI', ' Stuttgart/Augsburg , Other than USA', ' Coconut Grove/Miami, FL', ' Springfield/Longmeadow, MA', ' Groves/Port Arthur, TX', ' Wilsonville/Tualatin, OR', ' Burbank/Los Angeles, CA', ' Terrace/Prince Rupert  , BC', ' Beloit/Milwaukee , WI', ' Eden/San Angelo , TX', ' Livermore/Pleasonton , CA', ' Bethesda/Rockville, MD', ' Midway/Marion, KY', ' Hamilton/New Miami, OH', ' North Judson/Knox, IN', ' Kenton/Bellcenter, OH', ' Savannah/Tybee Island, GA', ' Corning/Redding/Richfield, CA', ' Bonney Lake/Sumner, WA', ' Rural/Unknown, OR', ' Longwood/winter springs, FL', ' Westfall/Matamoras, PA', ' Plant City/Mulberry, FL', ' Ft. Collins/Loveland, CO', ' N./A, TX', ' Shah Alam/Selangor , Other than USA', ' Houston/Quick/Telkwa , BC', ' UK/England, . Other than USA', ' Glendale/Phoenix, AZ', ' Guilford/Abbot, ME', ' Limington/Naples, ME', ' Wendens Ambo/Essex , Other than USA', ' Wikieup/Wickenburg , AZ', ' Renton/Seattle, WA', ' Lake Jackson/Brazoria/Richwd, TX', ' Durrell/Twillinagte , NF', ' Edison/Asbury Park, NJ', ' Leupp/Flagstaff , AZ', ' Seattle/Belfair, WA', ' Silver City/Ontonagan, MI', ' Wichita/Mulvane, KS', ' Rutherfordton/Outer Gilkey, NC', ' Fresno/Madera, CA', ' Los Angeles/Angeles Natl. Forest, CA', ' Graham/Eatonville, WA', ' San Antonio/Austin , TX', ' Pittsfield/Adams, MA', ' Swanwick/Derbyshire , Other than USA', ' Nelson/Salmo  , BC', ' Manchester/York Counties, PA', ' Perpignan/Canet  , Other than USA', ' Window Rock NM/AZ, AZ', ' Salem/Peabody, MA', ' Charleston/Van Buren, AR', ' London UK/England, Other than USA', ' Frankenthal/Pfalz , Other than USA', ' Florida /Georgia  , FL', ' London/Sarnia , ON', ' Devore/Muscoy/San Bernardino, CA', ' Clinton/Maroa , IL', ' Shoto/Two Rivers, WI', ' North Myrtle Beach/Cherry Groove, SC', ' Portland/Gresham, OR', ' Tuscumbia/Cherokee , AL', ' Apple Valley/Burnsville, MN', ' Yermo/Ft. Irwin, CA', ' Coventry/Warwick , Other than USA', ' Gresham/ Wood Village, OR', ' Catskill/Coxsackie, NY', ' Irving/Grand Prairie, TX', ' Acton/Aqua Dulce, CA', ' Auburn/Montgomery , AL', ' Waldenburg/Harrisburg , AR', ' Yakima/Ellensburg, WA', ' Bartow/Mulberry, FL', ' Chadron, NE/Oelrichs, SD , NE', ' Dedham/Westwood line, MA', ' Winnamucca/Lovelock., NV', ' Kleinmachnow/Berlin , Other than USA', ' NAS Whidby Island/Oak Harbor, WA', ' Samuel-/Bardstown, KY', ' Reno/Stead, NV', ' Northland/Moerewa Bay , Other than USA', ' Near the NV/CA state line above the I-15, CA', ' Smithville/Sink Creek, TN', ' Centereach/Selden/Coram, NY', ' Weed/Yreka , CA', ' Flatrock/Taylor border, MI', ' I-395/Exit 97, CT', ' Moody/McGregor , TX', ' Kaiserslautern/Mainz  , Other than USA', ' Shoreline/Edmonds, WA', ' Peralta/Albuquerque, NM', ' Baker/Edwards AFB, CA', ' Yucca Valley/Morongo Valley, CA', ' Mankato/Lake Crystal, MN', ' Kearney/Elizabeth, NJ', ' Meppen/Emmen  , Other than USA', ' Atlantic Ocean/Caribbean sea, Other than USA', ' Green Township/Erie, PA', ' Inkerman/Tracadie , NB', ' Long Beach/Lakewood City Limt, CA', ' Raton/Des Moines, NM', ' Houston/Dallas , TX', ' Franklin/Nashville, TN', ' Newmarket/Luray , VA', ' Austin/Rochester , MN', ' Winter Springs/Oviedo, FL', ' Wilmington/Carson, CA', ' Ithaca/Dansville/Batavia/Weedsport, NY', ' Bristol/Canandaigua, NY', ' Denver/Golden , CO', ' Saline/Bridgewater, MI', ' Auriol/Provence , Other than USA', ' Lemoore/I-5 corridor, CA', ' Why/Tracy, AZ', ' Hazel Green/Benton, WI', ' Painsville/Willoughby/over Lake Erie, OH', ' Seaford/Old Bridge, DE', ' Springer /Colorado City , CO', ' Woodbury/Middlebury, CT', ' Dallas/Grand Prairie, TX', ' Arlington/Belmont  , MA', ' Dublin/Pleasanton, CA', ' Esfehan/Ghazvin , Other than USA', ' Fife/Federal Way , WA', ' in-flight/unknown, Other than USA', ' Nelson/Ruby Bay , Other than USA', ' Bankson Lake/Lawton, MI', ' Dateland/Welton, AZ', ' Fairfield/Vallejo , CA', ' Goodyear/Buckeye/Gila Bend, AZ', ' Monroe/Bastrop, LA', ' Tulare/Bakersfield, CA', ' Lake Country/Vernon , BC', ' Dallas/Fort Worth, TX', ' Albuquerque/Houston , TX', ' Melbourne/Titusville , FL', ' Peru/Rochester, IN', ' Tacoma/Spanway, WA', ' Casa Grande/Phoenix , AZ', ' Hoover/Bluff Park, AL', ' Newcastle/Alwick  , Other than USA', ' Cleveland/Toledo , PA', ' Highland/Pokahontas , IL', ' San Antonio/Elmendorf, TX', ' Los Alamos/Pojoaque, NM', ' Salem Township/Dorr area, MI', ' Mesa/Phoenix, AZ', ' Krimpen a/d Ijssel , Other than USA', ' Wooster/Mansfield , OH', ' Providence/Warwick, RI', ' Gary/Hammond, IN', ' Pittsburgh/New Castle, PA', ' Bass Lake/Culver, IN', ' Snoqualmie Pass/Blewett Pass area, WA', ' Buffalo/Williamsville, NY', ' Prescott/Prescott Valley, AZ', ' Motley/Cottle Counties, TX', ' Germantown/Farmersville, OH', ' Orland/Tinley Park, IL', ' Hawthorne/Lawndale, CA', ' Asheville/Johnson City , TN', ' Heule/Kuurne , Other than USA', ' Orland Park/Tinely Park, IL', ' Salem/Montrose , SD', ' Ridgecrest/China Lake, CA', ' Metchosin/Sooke Area , BC', ' Duncansville/Altoona, PA', ' Cuba/San Isidro , NM', ' Pacific Ocean/X-43a launch, Other than USA', ' Sunol/Pleasanton, CA', ' Orland Park/TinleyPark, IL', ' Ithaca/Freeville, NY', ' Duanesburg/Mariaville, NY', ' Arbuckle/College City , CA', ' LaCrosse/Dusty , WA', ' Johnson Village/South Park, CO', ' Bellevue/Redmond, WA', ' Seaford/Millsboro Millsboro, to Rehobot, DE', ' Charleston/Mt. Pleasant, SC', ' Madera/Manteca , CA', ' Syracuse/Weedsport , NY', ' Orange/Anahiem, CA', ' Peru/Kokomo , IN', ' Cumberland/Ravensdale, WA', ' NJ/Toronto  , ON', ' Tacna/Yuma , AZ', ' Lakeville/Limerock, CT', ' CT/RI border, RI', ' Tuttle Creek/Lone Pine, CA', ' Newburgh/Village of Vails Gate, NY', ' Phoenix/Tucson , AZ', ' Tamaulipas/Rancho Los Lopez/ Lake Marte R. Gomez, Other than USA', ' Kelso/Pt. Townsend, WA', ' Conroe/Houston , TX', ' Haleakala /Mauna Kea , HI', ' Orlando/Oviedo, FL', ' Pine Bush/Walden, NY', ' Fayetteville/New Athens, IL', ' Clunes/Maryborough  , Other than USA', ' Coquitlam/Vancouver , BC', ' River Falls/Prescott , WI', ' Newport Beach/ Laguna Beach, CA', ' Howard/Artesian, SD', ' Orlando/Lake Buena Vista, FL', ' Draffenville/Benton, KY', ' Strathmore/lLndsay, CA', ' Angels Camp/Lake New Melones, CA', ' Auburn/Lewiston, ME', ' San Diego/National City, CA', ' Brick/Lakewood/Toms River, NJ', ' Mechanicsville/Aylett, VA', ' Seattle/Tacoma , WA', ' Sedona/Verde Valley, AZ', ' Knoxville/Alcoa, TN', ' Camp Lejeune/Jacksonville, NC', ' Holmes/Pawling, NY', ' Fresno/ Dinuba, CA', ' Seattle/Tukwila, WA', ' Middleton/Golwa , Other than USA', ' Mukwanago/Genesee , WI', ' Phoenix/San Diego , AZ', ' Holland/Newtown, PA', ' Greenville/Port Jervis, NY', ' Black Mesa/Shonto, AZ', ' Bishop/Mammoth Lakes, CA', ' Ballston Lake/Malta, NY', ' Rocking Chair Mtn/Sedona, AZ', ' Offshore/West Coast, FL', ' Oceangate/Seaside Heights, NJ', ' Seattle/Shoreline, WA', ' Sunland / Tujunga, CA', ' Miami/keys, FL', ' Scranton/Dickson, PA', ' Waukee/Clive, IA', ' Digby/Cornwallis Base , NS', ' Campinas/Sao Paulo , Other than USA', ' Stockholm/ sp&aring;nga , Other than USA', ' UK/Wales, Other than USA', ' Kinston/Richlands , NC', ' Borden/Carlton , PE', ' Florence/Vicksburg, MS', ' Evergreen Park/Tinley Park/Orland Park, IL', ' Midlothian/Posen, IL', ' Grants/Albuquerque, NM', ' Joliet/Orland Hills, IL', ' Countryside/rural , Other than USA', ' Posen/Midlothian, IL', ' Cape Lookout/Tillamook, OR', ' Woodstock/Harvard, IL', ' Florissant/Hazlewood, MO', ' Coon Rapids/Fridley, MN', ' Tinley Park/Oak Forest, IL', ' Warrenville/Wheaton, IL', ' Jacksonville/Ft. Pierce, FL', ' Liverpool/Bootle , Other than USA', ' Orange/ Derby, CT', ' New York State Thruway / Catskill, NY', ' Millville/Brockport, NY', ' I-495S/I-95S, VA', ' UK/England , Other than USA', ' Salem/Shawsville, VA', ' Magog/Stanstead , QC', ' M. Fokani/Hims , Other than USA', ' Clearfield/Curwensville, PA', ' Bullhead City/Laughlin, AZ', ' Encinitas/Carlsbad, CA', ' Tillamook/Bay City, OR', ' Northwich /Cheshire , Other than USA', ' Annapolis/Severna Park, MD', ' Interstate 80/25, WY', ' Aliceville/Carrolton/Livingston, AL', ' Scottsdale/Phoenix, AZ', ' Graham/Puyallup, WA', ' Riverside/Norco, CA', ' Hemet/South Jacinto , CA', ' Perris/White Water , CA', ' Collingwood/Orangeviille  , ON', ' Corinth/Bradford, VT', ' Heber/Overgaard, AZ', ' Irving/Arlington border, TX', ' Marion/P.G. area, NC', ' Springtown/Azle, TX', ' San Luis, R.C. /Yuma, AZ, Other than USA', ' Hudsonville/Allendale/Standale, MI', ' Rapid City/ Box Elder, SD', ' Baltimore/Windsor Hills, MD', ' Golden/ Boulder , CO', ' Arlington/Dallas, TX', ' Limerick/Pottstown, PA', ' Bear River/Evanston, WY', ' Brookville/Trotwood, OH', ' Hampstead/Plaistow, NH', ' Newaygo/Croton, MI', '  Wausau/Greenbay , WI', ' Bay Point/ Pittsburg, CA', ' Frodsham/Northwich , Other than USA', ' Cap Pele/ Port Elgin area , NB', ' San Clemente/San Juan Capistrano, CA', ' Pittsburg/Antioch, CA', ' Wilkes-Barre/Taylor, PA', ' Mahomet/Farmer City, IL', ' In orbit/Space Shuttle, Other than USA', ' Attalla/Gadsden, AL', ' Laughlin/Bullhead City, NV', ' Kettleman City/Coalinga , CA', ' Florence/Queen Creek, AZ', ' Lajoskomarom/Mezokomarom , Other than USA', ' Coastline/offshore, TX', ' Granada Hills/Mission Hills, CA', ' Sanford/Midland, MI', ' Santa Fe/Los Alamos, NM', ' Sandy Hook/Highlands, NJ', ' Glasgow/Rutherglen , Other than USA', ' Wausau/Shawno , WI', ' NYC/Westchester area, NY', ' Waukegan/Gurnee, IL', ' Boardman/Canfield, OH', ' North Phoenix/Scottsdale, AZ', ' Richmond/Berea, KY', ' Arvana/Lamesa, TX', ' North Hollywood/Burbank, CA', ' McNary/Sunrise Ski Resort , AZ', ' Firestone/Frederick, CO', ' Toronto/Kitchener  , ON', ' Tukwila/Renton, WA', ' Hammond/Whitting, IN', ' Hermosillo/Obregon City   , Other than USA', ' Marlborough/Glastonbury, CT', ' Twenty Nine Palms/Joshua Tree Monument, CA', ' Los Angeles/Long Beach, CA', ' Dalton/Atlanta , GA', ' Santa Fe/Glorieta, NM', ' Marina Del Rey/Mar Vista, CA', ' Schaumburg/ Palatine/ Rolling Meadows, IL', ' Aurora/Wheaton/Warrenville areas, IL', ' Ft. Drum/Okeechobee, FL', ' Concord/Walnut Creek, CA', ' Wacousta/DeWitt , MI', ' Fairfield/Benicia , CA', ' Fergus/Guelph , ON', ' Sounth Atlantic/Caribbean , Other than USA', ' Chilhowie/Marion, VA', ' Cocoa Beach/Cape Canaveral, FL', ' Western Carolinas/ Upstate SC, SC', ' USS Providence/U.S. Navy vessel , Other than USA', ' Milwaukee/West Allis/West Milwaukee, WI', ' Gurnee/Waukegan/N. Chicago, IL', ' Colorado/Oklahoma , CO', ' Cerritos/Buena Park area, CA', ' Dayton/Fairborn, OH', ' Dumfries/Galloway , Other than USA', ' Ladysmith/Eau Claire , WI', ' Gila Bend/Wellton , AZ', ' Yakima/union gap, WA', ' Stoughton/Cooksville area, WI', ' Suffolk/Cambridgeshire/Essex/London , Other than USA', ' Edwards/Vail , CO', ' San Ramon/Danville, CA', ' Reyes/Santa Rosa  , Other than USA', ' Palm Springs/Phoenix , AZ', ' Poolesville/Dickerson, MD', ' Bourbonnais/Bradley, IL', ' Raleigh/Garner, NC', ' Sierra Vista/Ft. Huachuca, AZ', ' Corinth/Lewisville, TX', ' Rosemont/Darien, IL', ' Lancaster/Freemont, CA', ' Murrieta/Temecula, CA', ' Issaquah/North Bend, WA', ' Amman/Wadi Ram  , Other than USA', ' Gerry/Ellington, NY', ' Henderson/Las Vegas, NV', ' Methuen/Haverhill line, MA', ' Schaumburg/Palatine/ Rolling Meadows, IL', ' Dale City/Arlington, VA', ' Beaver Dam/Oromocto , NB', ' White City /Eagle Point, OR', ' Heathrow/London , Other than USA', ' Massachusetts/New Hampshire, NH', ' Philippine Sea/Pacific Ocean, CA', ' Friedberg/Hessen , Other than USA', ' Beaver Creek/Alaska Highway , YT', ' Cambria/San Luis Obispo County, CA', ' Middletown / Townsend or Cecilton / Warwick, Maryland, DE', ' Sneads/Chattahoochee, FL', ' West Valley/I-80, UT', ' Clovis/Fresno, CA', ' Fort Hood/Killeen, TX', ' Songtan/Pyongtaek , Other than USA', ' Westport/Port Henry , NY', ' Bainbridge/ Port Deposit, MD', ' Northern Cambria/Hastings, PA', ' Humble/Atascocita, TX', ' Cranbury/East Windsor, NJ', ' Mission Viejo/Trabuco Canyon, CA', ' Beacon Falls/Naugatuck, CT', ' Texas City/Galveston, TX', ' Mount Vernon /Pelham, NY', ' Irvine/Newport Beach, CA', ' Merrillville/Schererville, IN', ' Leftwich/Northwich , Other than USA', ' VA/Atlantic Coast , VA', ' Santa Margarita/Irvine, CA', ' Stanislaus/Calaveras Counties , CA', ' Carpinteria/Santa Barbara, CA', ' Stateline/Minden, NV', ' Lakewood/Denver, CO', ' Kemah/League City, TX', ' Phila./Camden, PA', ' Scranton/Dunmore, PA', ' Baird/ Putnam on I-20, TX', ' Pauls Valley/Maysville , OK', ' Santa Barbara/Goleta, CA', ' Longwood/Lake Mary, FL', ' Mission Viejo/Lake Forest, CA', ' Valley View/Sanger , TX', ' Rishton/Blackburn, Lancashire , Other than USA', ' Suwanee/Gwinnett County, GA', ' Ojibwa/Exeland, WI', ' Tylertown, MS/Memphis,TN, MS', ' Colorado Springs/Fountain, CO', ' Montvale / Upper Saddle River, NJ', ' Santa Clarita/Palmdale , CA', ' Paramus/Oradell/Haworth, NJ', ' Tampa/Miami , FL', ' Carlsbad/Leucaida, CA', ' Lakewood/South Gate/Lnywood  , CA', ' Eldersburg/Randallstown, MD', ' Phoenix/Glendale , AZ', ' Little Rock/Maumell, AR', ' Willimantic/N. Windham, CT', ' Smithville/Orrville, OH', ' Oklahoma/Texas border, TX', ' Clarkston/Lewiston, WA', ' Manchester/Burning Springs area, KY', ' Chantilly/Centreville, VA', ' Westfir/Seattle, OR', ' Milroy/Belleville, PA', ' Bartlett/Memphis, TN', ' Long Island/Stoney Brook, NY', ' Freeport/Rockford, IL', ' Everson/Bellingham, WA', ' Swindon/Didcott , Other than USA', ' Thulba/Oberthulba , Other than USA', ' Tylertown/McComb , MS', ' San Luis Obispo/Morro Bay , CA', ' Bellevue/Kirkland, WA', ' Tempe/Chandler, AZ', ' Franklin/Brentwood, TN', ' Sun Prairie/Madison, WI', ' State College/University Park, PA', ' Bloomsburg/White haven, PA', ' Crandall/Seagoville, TX', ' N.Windham/ Willimantic, CT', ' Atlantic City/Cardiff, NJ', ' Val Verde/Castaic, CA', ' Rockford/Loves Park, IL', ' San Antonio/Cambleton, TX', ' Everett/Marysville, WA', ' Farmers Branch/Dallas, TX', ' Chandler/Gilbert/Mesa, AZ', ' Beverly Hills/ Los Angeles, CA', ' Cocoa/Merritt Islands , FL', ' Colle D&apos;Valle Delsa/ Scorgiono , Other than USA', ' Stamford/Darien Not certain  , CT', ' Kingston/Amherst View , ON', ' San Bernardino/Devore, CA', ' Carson/Los Angeles City, CA', ' Watervliet/Coloma, MI', ' Latham/Watervliet, NY', ' Westminster West/ Putney border, VT', ' Gainesville/Haymarket, VA', ' Panoche/Mendota , CA', ' Doris/Weed , CA', ' Manchester  UK/England, Other than USA', ' Bridgeport/Trumbull, CT', ' Eugen/Cottage Grove, OR', ' Philadelphia/Baltimore , MD', ' Reseda/Studio City, CA', ' Orinda/El Sobrante, CA', ' Laramie/Wamsutter , WY', ' National City/San Diego, CA', ' Kensington/Olney, MD', ' Vallejo/Napa, CA', ' Jackson/Clinton, MS', ' Uniontown/Hartville, OH', ' Apex/Cary, NC', ' Destin/Madison , FL', ' Spring Lake/Grand Haven, MI', ' Davie/Plantation, FL', ' Summerlin/Las Vegas, NV', ' LaConner/Conway , WA', ' Stephenville/Dublin, TX', ' Charles City Co./Henrico , VA', ' Smyrna Mills/Oakfield/Island Falls, and Patten, ME', ' San Francisco/Benicia, CA', ' Burns/Chicamoniny Lake, OR', ' Whitwell/Worksop , Other than USA', ' Bloomington/Minneapolis, MN', ' Marshal/Malta Bend, MO', ' Olathe / Lenexa / Lawrence, KS', ' Fullerton/Anaheim, CA', ' Warrington/Eden, IN', ' Weslaco/Mcallen, TX', ' Child/Elkton , MD', ' Denville/Parsippany, NJ', ' Orange County/San Bernardino, CA', ' Villa Park/Lombard, IL', ' Seattle/Olympic Mountains, WA', ' Durango/Pagosa Springs , CO', ' Lagro/Wabash, IN', ' Kennewick/Richland, WA', ' Greenville/Florence, SC', ' Medina Lake/San Antonio, TX', ' Hollywood/Burbank city limit, CA', ' Sacramento/davis, CA', ' Chesterfield/Creve Coeur , MO', ' Sandy Springs/Pendleton, SC', ' San Gabriel Valley/Los Angeles, CA', ' Van Buren/Alma, AR', ' Yaisu/Fujieda , Other than USA', ' Wikieup/Kingman, AZ', ' Greenwater/Crystal Mountain, WA', ' Willamsburg/Ottawa , KS', ' Holiday/Tarpon Springs, FL', ' San Antonio/Laredo , TX', ' Wakefield/Barnsley , Other than USA', ' Monterey Park / Los Angeles, CA', ' Gilbert/Chandler, AZ', ' Long Beach/Cerritos, CA', ' Perryopolis/Uniontown , PA', ' Springfield/Papillion, NE', ' Avon/Brodhead, WI', ' San Diego/Pacific Beach, CA', ' Toronto/Pickering , ON', ' Mansfield/Kennedale, TX', ' Saginaw/Azle, TX', ' Pompano/Deerfield Beach, FL', ' Yamhill/Cove Orchard, OR', ' La Mesa/El Cajon, CA', ' Pleasanton/Livermore, CA', ' Covina/West Covina, CA', ' Interstate 8/Gila Bend Range , AZ', ' Davenport/Reardan, WA', ' Irwindale/Azusa, CA', ' Troy/Rochester Hills, MI', ' Springfield/Jasper, OR', ' San Jose / Bay Area, CA', ' Collbran/The Flat Tops, CO', ' Logansport/Kokomo., IN', ' Midwest City/Del City, OK', ' Houston/Tomball, TX', ' Santa Rosa / Novato, CA', ' Ajax/Toronto , ON', ' Fairfield/Bridgeport, CT', ' Santa Cruz/Aptos, CA', ' Mt.Rainier/Paradise, WA', ' Norwood/Springfield , MO', ' Concrete/Lake Tyee, WA', ' Scott City/Chaffe , MO', ' Salem/Rolla , MO', ' Interstate 80/I-76;  into Colorado begins  NE', ' Monterey/San Francisco , CA', ' Marietta/Kennesaw, GA', ' Marana/Tucson , AZ', ' Las Vegas/Charleston Heights, NV', ' Pebble Beach/Carmel, CA', ' Auburn/Skaneateles , NY', ' Orofino/Weippe, ID', ' Homestead/Redlands/Everglades, FL', ' Granger/Mishawaka, IN', ' Wilkesboro/DeepGap, NC', ' Pasadena/Los Angeles, CA', ' Sarnia/Blue Point area , MO', ' Arkansas/Oklahoma , AR', ' Pt. Pleasant/Southside , WV', ' Sparks/Reno, NV', ' Ellicott City/Oella Mills, MD', ' Limerick/Clare border , Other than USA', ' Wikieup/Nothing , AZ', ' Fonthill/Thorold , ON', ' Merrill/Wausau, WI', ' Robinson Twp./Pittsburgh Area, PA', ' Wikieup/Wickenburg, AZ', ' Bruneau/Mountain Home , ID', ' Cedar point/ Emerald Isle/ Swansboro, NC', ' Goree/Mineral Wells , TX', ' Capistrano Beach/Dana Point, CA', ' Pullman/Allegan, MI', ' Peoria/Canton , IL', ' CO/WY border , CO', ' Wanaque/Oakland, NJ', ' Apple Valley/Lakeville/Burnsville, MN', ' Bozeman/Belgrade , MT', ' Wauconda/Lake Zurich , IL', ' El Monte/Monterey Park , CA', ' Fairless Hills/Levittown, PA', ' Linden/Avis, PA', ' Chicago/Mt. Greenwood, IL']\n",
            "0 [' Rte. 40, CA', ' I-10, Marker 174, NM', ' Interstate 10, FL', ' Hwy 30, heading west, PA', ' I-405 North-bound, between 124th and 160th, WA', ' Columbia River { mile marker 230}, WA', ' Interstate 80 , OH', ' I-90 , WA', ' Interstate 40, East Bound, NC', ' US Hwy 200 between MP 39 &amp; 40, ID', ' West Coast, alt. apx 30&apos; k, northerly flight, CA', ' America West flt 2620 , CA', ' Interstate 10, somewhere by the border, CA', ' Golden, CO,I70E by exit for, CO', ' Texas highway 54 heading into NM - after crossing I-10, TX', ' 22degrees01 north  55degrees40 north, none, Other than USA', ' Hwy I-40 , AZ', ' Hwy. 90, SD', ' I-80 , UT', ' Lake Whitney  - 90 miles south/west of Dallas, TX', ' Prescott , 40 miles north-west of, AZ', ' Fairbanks, Trans Alaskan Pipeline haul road 250 mi N of, AK', ' I-10 , TX', ' n45 27.944   w088 23.691, WI', ' MM 110, AZ', ' 100 Mile , BC', ' I-90 , NY', ' On the Mass Pike: Rt. 90, MA', ' Hwy 80 , PA', ' Fernley @ Intersate 80 West, NV', ' Route 80 W , PA', ' Highway I-70, MO', ' I-40 West, mm 228, AR', ' 100 Mile House , BC', ' 70 Mile House , BC', ' Route 202, NJ', ' Interstate 10, LA', ' Mile Marker 120 , FL', ' Interstate 40, AZ', ' Interstate 70 , IN', ' Interstate 80/25, WY', ' Interstate 10 , LA', ' West Valley/I-80, UT', ' Baird/ Putnam on I-20, TX', ' Interstate 40, TX', ' Bolivar - 170th &amp; 326th Road junction, MO', ' I-10  , CA', ' ZIP code 20876, MD', ' I-70 , KS', ' Interstate 80.  Between York, Nebraska and Aurora, Nebraska , NE', ' Interstate 80/I-76;  into Colorado begins  NE', ' i-10e bound markers 2-65, NM']\n",
            "1 [' Sector 18, NY', ' Hwy. 18, WA', ' Area 51, NV', ' I-10, Marker 174, NM', ' Interstate 10, FL', ' Jones Co.-Jasper Co. line, Hwy.15N, MS', ' Highway 15, NV', ' 1-25 corridor , CO', ' Highway 71 between Clearmont, Missouri and Maryville, Missou, MO', ' I-405 North-bound, between 124th and 160th, WA', ' observer enroute on MN hwy 61 north, MN', ' I-84 exit about 1min off of highway., CT', ' I-81 , TN', ' Interstate 10, somewhere by the border, CA', ' Texas highway 54 heading into NM - after crossing I-10, TX', ' 22degrees01 north  55degrees40 north, none, Other than USA', ' Hwy 199, CA', ' U.S.Navy-USS Glover AGFF-1-Burmuda Triangle, Fla., Other than USA', ' Springfield near Highlandville, 14 miles south of, MO', ' Hwy. 15 /Hwy. 72 intersection, 1 mi. E of, MS', ' FROM SR 41 S. AND  MIAMI TRACE RD. TO SR 41S AND SR 753. IT , OH', ' I-10 , TX', ' Union City  on Hwy. 138, GA', ' n45 27.944   w088 23.691, WI', ' Santa Barbara/ Highway 154, CA', ' Area 51 and Mercury, NV', ' MM 110, AZ', ' 100 Mile , BC', ' Hwy 12 , WA', ' Warrensburg on Highway 13, MO', ' Near the NV/CA state line above the I-15, CA', ' 100 Mile House , BC', ' Interstate 10, LA', ' Mile Marker 120 , FL', ' Chicago- West Suburbs- Rt 171, IL', ' Interstate 10 , LA', ' STS 121 NASA footage, Other than USA', ' Gila Bend - 14 mile west of, AZ', ' Highway 371, NM', ' Interstate 84 eastbound; Exit 147, OR', ' Hwy 168, Bristle Cone Pine Forrest, CA', ' Bolivar - 170th &amp; 326th Road junction, MO', ' I-10  , CA', ' I-355 and 159th st, IL', ' Lac de la Sucrerie, 115 km NW of Montreal , QC', ' The M1 , Other than USA', ' HWY 21 , WI', ' Route 81, PA', ' i-10e bound markers 2-65, NM']\n",
            "2 [' MM82/MM83 , PA', ' 1-25 corridor , CO', ' I-405 North-bound, between 124th and 160th, WA', ' Columbia River { mile marker 230}, WA', ' US Hwy 200 between MP 39 &amp; 40, ID', ' America West flt 2620 , CA', ' Theodore Roosevelt National Park exit 32 on I-94 North Dakot, ND', ' 22degrees01 north  55degrees40 north, none, Other than USA', ' Rancho Cordova, just east/southeast of Sacramento, 2 miles f, CA', ' Hwy. 15 /Hwy. 72 intersection, 1 mi. E of, MS', ' Fairbanks, Trans Alaskan Pipeline haul road 250 mi N of, AK', ' Rock Spings, 2miles west of, WY', ' Woodburn  on I-5 North @mile post 265, OR', ' n45 27.944   w088 23.691, WI', ' Hwy 12 , WA', ' I-40 West, mm 228, AR', ' Route 202, NJ', ' Mile Marker 120 , FL', ' 29 Palms, CA', ' Interstate 80/25, WY', ' STS 121 NASA footage, Other than USA', ' Baird/ Putnam on I-20, TX', ' Bolivar - 170th &amp; 326th Road junction, MO', ' Summit Lake Exit, Hwy 42, OR', ' ZIP code 20876, MD', ' HWY 21 , WI', ' i-10e bound markers 2-65, NM', ' Highway 24 , IL']\n",
            "3 [' Highway 37, CA', ' MM82/MM83 , PA', ' I-35 , TX', ' Hwy 30, heading west, PA', ' Columbia River { mile marker 230}, WA', ' US Hwy 200 between MP 39 &amp; 40, ID', ' West Coast, alt. apx 30&apos; k, northerly flight, CA', ' Theodore Roosevelt National Park exit 32 on I-94 North Dakot, ND', ' Thunder Bay -RR#3 , ON', ' Los Angeles  traveling via 737 to Denver, CA', ' FROM SR 41 S. AND  MIAMI TRACE RD. TO SR 41S AND SR 753. IT , OH', ' Intersection of HWY 6 and HWY 375  Nevada, NV', ' Union City  on Hwy. 138, GA', ' n45 27.944   w088 23.691, WI', ' Highway 395, CA', ' Alberta/3-34-83-8 w6m  , AB', ' I-355 , IL', ' Intersection of Hwy. 395 and 85, CA', ' Warrensburg on Highway 13, MO', ' I-395/Exit 97, CT', ' Pacific Ocean/X-43a launch, Other than USA', ' Highway 371, NM', ' Bolivar - 170th &amp; 326th Road junction, MO', ' I-355 and 159th st, IL']\n",
            "4 [' Rte. 40, CA', ' I-10, Marker 174, NM', ' I-64 , IN', ' I-405 North-bound, between 124th and 160th, WA', ' I-84 exit about 1min off of highway., CT', ' I-84  , ID', ' Interstate 40, East Bound, NC', ' US Hwy 200 between MP 39 &amp; 40, ID', ' Theodore Roosevelt National Park exit 32 on I-94 North Dakot, ND', ' Texas highway 54 heading into NM - after crossing I-10, TX', ' 22degrees01 north  55degrees40 north, none, Other than USA', ' Hwy I-40 , AZ', ' Springfield near Highlandville, 14 miles south of, MO', ' Prescott , 40 miles north-west of, AZ', ' FROM SR 41 S. AND  MIAMI TRACE RD. TO SR 41S AND SR 753. IT , OH', ' Des Moines--4 blocks east of the Marina, Wash, WA', ' n45 27.944   w088 23.691, WI', ' Santa Barbara/ Highway 154, CA', ' Alberta/3-34-83-8 w6m  , AB', ' I-84 Westbound, MA', ' Rte 85 South, Exit 74, NC', ' I-40 West, mm 228, AR', ' Pacific Ocean/X-43a launch, Other than USA', ' M4 , Other than USA', ' Interstate 40, AZ', ' I-495S/I-95S, VA', ' Gila Bend - 14 mile west of, AZ', ' Interstate 84 eastbound; Exit 147, OR', ' I-84 , ID', ' Highway 64, AZ', ' Interstate 40, TX', ' Summit Lake Exit, Hwy 42, OR', ' Highway 24 , IL']\n",
            "5 [' MM 99 mile Exit/I-5, WA', ' Area 51, NV', ' Jones Co.-Jasper Co. line, Hwy.15N, MS', ' Highway 15, NV', ' 1-25 corridor , CO', ' Tuskegee National Forest @ HWY 85, AL', ' I-35 , TX', ' I-405 North-bound, between 124th and 160th, WA', ' Tinley Park/I-57 , IL', ' Encinitas: along I-5, from encinitas to oceanside over ocean, CA', ' Texas highway 54 heading into NM - after crossing I-10, TX', ' 22degrees01 north  55degrees40 north, none, Other than USA', ' Charlotte Cty to Sarasota on Hwy. 75, FL', ' Hwy. 15 /Hwy. 72 intersection, 1 mi. E of, MS', ' Fairbanks, Trans Alaskan Pipeline haul road 250 mi N of, AK', ' FROM SR 41 S. AND  MIAMI TRACE RD. TO SR 41S AND SR 753. IT , OH', ' Intersection of HWY 6 and HWY 375  Nevada, NV', ' Woodburn  on I-5 North @mile post 265, OR', ' Highway 5 Not certain , CA', ' Interstate 5, CA', ' Stanwood - I-5 corridor, WA', ' n45 27.944   w088 23.691, WI', ' Santa Barbara/ Highway 154, CA', ' Area 51 and Mercury, NV', ' Highway 395, CA', ' Interstate 95, RI', ' I-95, VA', ' I-355 , IL', ' Rte 85 South, Exit 74, NC', ' Near Monore, on Interstate 75 North Bound, MI', ' Interstate-5, CA', ' Intersection of Hwy. 395 and 85, CA', ' Near the NV/CA state line above the I-15, CA', ' I-395/Exit 97, CT', ' I-5 , CA', ' interstate 5 or tributary between Vasilia and Sacrammento, CA', ' Interstate-95, RI', ' I-5 and Lerdo Highway, CA', ' Lemoore/I-5 corridor, CA', ' Tehachapi Pass HWY 58, CA', ' I-5 North in Federal Way, WA', ' Interstate 65 , AL', ' I-495S/I-95S, VA', ' Interstate 80/25, WY', ' Interstate 5 , WA', ' I-65 , IN', ' Interstate 5 , CA', ' Oregon on Interstate-5, OR', ' I-355 and 159th st, IL', ' Lac de la Sucrerie, 115 km NW of Montreal , QC', ' Interstate 75 , FL', ' i-10e bound markers 2-65, NM', ' Highway 85 , AZ']\n",
            "6 [' Mile 69, WY', ' I-64 , IN', ' I-405 North-bound, between 124th and 160th, WA', ' observer enroute on MN hwy 61 north, MN', ' America West flt 2620 , CA', ' Intersection of HWY 6 and HWY 375  Nevada, NV', ' Woodburn  on I-5 North @mile post 265, OR', ' n45 27.944   w088 23.691, WI', ' Denver  on Interstate 76, CO', ' Alberta/3-34-83-8 w6m  , AB', ' Hwy. 6 &amp; 68 , MB', ' Interstate 65 , AL', ' Hwy 168, Bristle Cone Pine Forrest, CA', ' Highway 64, AZ', ' Bolivar - 170th &amp; 326th Road junction, MO', ' I-65 , IN', ' ZIP code 20876, MD', ' Interstate 80/I-76;  into Colorado begins  NE', ' i-10e bound markers 2-65, NM']\n",
            "7 [' I-10, Marker 174, NM', ' Highway 37, CA', ' Highway 71 between Clearmont, Missouri and Maryville, Missou, MO', ' Tinley Park/I-57 , IL', ' Golden, CO,I70E by exit for, CO', ' Charlotte Cty to Sarasota on Hwy. 75, FL', ' Los Angeles  traveling via 737 to Denver, CA', ' Hwy. 15 /Hwy. 72 intersection, 1 mi. E of, MS', ' FROM SR 41 S. AND  MIAMI TRACE RD. TO SR 41S AND SR 753. IT , OH', ' Intersection of HWY 6 and HWY 375  Nevada, NV', ' n45 27.944   w088 23.691, WI', ' Denver  on Interstate 76, CO', ' Rte 85 South, Exit 74, NC', ' Near Monore, on Interstate 75 North Bound, MI', ' Highway I-70, MO', ' I-395/Exit 97, CT', ' 70 Mile House , BC', ' Interstate 70 , IN', ' Chicago- West Suburbs- Rt 171, IL', ' highway 78 between Bailey &amp; Bonham, Texas, TX', ' Highway 371, NM', ' Interstate 84 eastbound; Exit 147, OR', ' Route 7, NY', ' Bolivar - 170th &amp; 326th Road junction, MO', ' ZIP code 20876, MD', ' Rte 7, VT', ' I-70 , KS', ' Interstate 75 , FL', ' Interstate 80/I-76;  into Colorado begins  NE']\n",
            "8 [' Sector 18, NY', ' Hwy. 18, WA', ' MM82/MM83 , PA', ' Tuskegee National Forest @ HWY 85, AL', ' Interstate 80 , OH', ' I-84 exit about 1min off of highway., CT', ' I-84  , ID', ' I-81 , TN', ' I-80 , UT', ' Yuma  near I-8/Mexican border.  Proba, CA', ' Union City  on Hwy. 138, GA', ' n45 27.944   w088 23.691, WI', ' Alberta/3-34-83-8 w6m  , AB', ' I-84 Westbound, MA', ' Hwy 80 , PA', ' Fernley @ Intersate 80 West, NV', ' Rte 85 South, Exit 74, NC', ' Intersection of Hwy. 395 and 85, CA', ' Route 80 W , PA', ' Tehachapi Pass HWY 58, CA', ' I-40 West, mm 228, AR', ' Hwy. 6 &amp; 68 , MB', ' Interstate 80/25, WY', ' highway 78 between Bailey &amp; Bonham, Texas, TX', ' West Valley/I-80, UT', ' Interstate 84 eastbound; Exit 147, OR', ' Hwy 168, Bristle Cone Pine Forrest, CA', ' I-84 , ID', ' ZIP code 20876, MD', ' Route 81, PA', ' Interstate 8/Gila Bend Range , AZ', ' Interstate 80.  Between York, Nebraska and Aurora, Nebraska , NE', ' Interstate 80/I-76;  into Colorado begins  NE', ' Interstate 8, AZ', ' Highway 85 , AZ']\n",
            "9 [' MM 99 mile Exit/I-5, WA', ' Mile 69, WY', ' I-90 , WA', ' US Hwy 200 between MP 39 &amp; 40, ID', ' Theodore Roosevelt National Park exit 32 on I-94 North Dakot, ND', ' Hwy. 90, SD', ' Hwy 199, CA', ' Lake Whitney  - 90 miles south/west of Dallas, TX', ' n45 27.944   w088 23.691, WI', ' New Minas,Kings County,#9 Pine Ridge Drive,, NS', ' Highway 395, CA', ' Interstate 95, RI', ' I-95, VA', ' I-90 , NY', ' On the Mass Pike: Rt. 90, MA', ' Intersection of Hwy. 395 and 85, CA', ' I-395/Exit 97, CT', ' Interstate-95, RI', ' 29 Palms, CA', ' I-495S/I-95S, VA', ' I-355 and 159th st, IL']\n",
            ": [' Encinitas: along I-5, from encinitas to oceanside over ocean, CA', ' On the Mass Pike: Rt. 90, MA']\n",
            "; [' Esl&ouml;, Scania , Other than USA', ' Nun&apos;s Island , PQ', ' Coconino Nat&apos;l Forest north of Wupatki NM, AZ, AZ', ' Lichfield ; Staffordshire , Other than USA', ' Pete&apos;s Hole , UT', ' Mexicali B. C. Mexico; Sierra Cucapah; Cerro prieto., B. C., Other than USA', ' Flisa, Sol&oslash;r, Hedemark , Other than USA', ' Coeur D&apos;Alene, ID', ' Tyson&apos;s Corner, VA', ' Lee&apos;s Summit, MO', ' Long Beach ; and again in Seattle, WA', ' Harvey&apos;s Lake, PA', ' US Hwy 200 between MP 39 &amp; 40, ID', ' West Coast, alt. apx 30&apos; k, northerly flight, CA', ' Malmoe/Copenhagen, Sk&aring;ne , Other than USA', ' St. John&apos;s , Other than USA', ' Dillion&apos;s Beach, CA', ' Interstate between C. Girardeau, MO &amp; Cairo, IL, MO', ' St. John&apos;s , NF', ' May&apos;s Landing', ' Parker&apos;s Lake, KY', ' Martha&apos;s Vinyard, MA', ' D&apos;Hanis, TX', ' Chanute &amp; Humbolt , KS', ' Montlu&ccedil;on , Other than USA', ' Hawaii&apos;s Volcano National Park, HI', ' Cantwell ; Clearwater Mtns., AK', ' O&apos;Brien, FL', ' Pite&aring; , Other than USA', ' Cascavel, Paran&aacute; , Other than USA', ' Stonglandseidet/M&oslash;lnelva , Other than USA', ' Troms&oslash; , Other than USA', ' Kapa&apos;a, HI', ' K&ouml;niz , Other than USA', ' Fort Qu&apos;Appelle , SA', ' Clingman&apos;s Dome , TN', ' Hudson&apos;s Hope , BC', ' Roger&apos;s Mesa , CO', ' Johnson&apos;s Creek, WI', ' Crete &amp; Wilber , NE', ' Ceasar&apos;s Creek and Dayton, OH', ' B&uuml;nde  , . Other than USA', ' Lee&apos;s Summit , MO', ' Pr&iacute;ncipe  , Other than USA', ' Mosj&oslash;en , Other than USA', ' Inder&oslash;y, Nord-Tr&oslash;ndelag , . Other than USA', ' Mosj&oslash;en , . Other than USA', ' Vr&aring; , Other than USA', ' Daniel&apos;s Park, CO', ' Mazatl&aacute;n, DE', ' can&apos;t say, PA', ' Harrison &amp; Mt.Plesent , MI', ' V&auml;sby , Other than USA', ' C&quot;an Picafort  , Other than USA', ' Trois-Rivi&egrave;res , PQ', ' Vit&oacute;ria  , Other than USA', ' Burk&apos;s Falls , ON', ' Br&uuml;hl , . Other than USA', ' Vit&oacute;ria , Other than USA', ' &Ccedil;anakkale , Other than USA', ' Podol&apos;sk , Other than USA', ' I don&apos;t know, MD', ' S&atilde;o Paulo , Other than USA', ' O&apos;Fallon, IL', ' Gua&iacute;ba , Other than USA', ' V&auml;stervik , Other than USA', ' La Motte D&apos;Aveillans , Other than USA', ' L&oacute;d  , Other than USA', ' Hyvink&auml;&auml; , Other than USA', ' L&oacute;d  Poland, Other than USA', ' Gasp&eacute; , PQ', ' Sunnm&oslash;re , Other than USA', ' Mt. Rainier Nat&apos;l Park , WA', ' St John&apos;s , NF', ' Smithson&apos;s Valley, TX', ' R&eacute;union Island , Other than USA', ' &Ouml;lmstad , Other than USA', ' P&auml;rnu , Other than USA', ' Ciel de St-R&eacute;mi , QC', ' St-R&eacute;mi , QC', ' Joan&oacute;polis , Other than USA', ' Stony Plain &amp; Spruce Grove , AB', ' St.Catharine&apos;s , ON', ' Norrk&ouml;ping , Other than USA', ' Gersh&oslash;j , Other than USA', ' San Jos&eacute; , Other than USA', ' &Iacute;safj&ouml;r&eth;ur , Other than USA', ' don&apos;t know, NJ', ' Mayag&uuml;ez, Other than USA', ' Bois D&apos;Arc, MO', ' Wiseman&apos;s View , NC', ' Hwy. 6 &amp; 68 , MB', ' San Marcos &amp; Escondido, CA', ' Ship&apos;s Bottom, NJ', ' Gateshead,Tyne &amp; Wear , Other than USA', ' Jackson&apos;s Point , ON', ' Yosemite Nat&apos;l Park, CA', ' Chicago &quot;highway&quot;, IL', ' St. Bernard&apos;s , NF', ' J&otilde;geva , Other than USA', ' Lion&apos;s Head , ON', ' M&eacute;xico, DC', ' O&apos;Fallon, MO', ' Stockholm/ sp&aring;nga , Other than USA', ' Montr&eacute;al , QC', ' Land O&apos;Lakes, FL', ' Labarthe sur L&egrave;ze , Other than USA', ' L&acute;ARBO&Ccedil;  , Other than USA', ' Coeur d&apos;Alene, ID', ' M&aring;l&oslash;y , Other than USA', ' Baie D&apos;urfe , QC', ' H&auml;rn&ouml;sand , Other than USA', ' highway 78 between Bailey &amp; Bonham, Texas, TX', ' Bay D&apos;Espoir , NF', ' Between Jackson Fla. &amp; Atlanta Ga., GA', ' Gila Indian Reservation &amp; S. Chandler, Ocotillo area, AZ', ' Pawley&apos;s Island , SC', ' Bagsv&aelig;rd , DC', ' Nisga&apos;a Highway , BC', ' D&apos;lberville, MS', ' Chicago O&apos;Hare Airport, IL', ' K&auml;rdla , Other than USA', ' Joshua Tree Nat&apos;l Park, CA', ' Pawley&apos;s Island, SC', ' St Petersburg; Madera Beach, FL', ' Golden&apos;s Bridge, NY', ' Kea&apos;au, HI', ' Ghaziabad&apos; , Other than USA', ' Bailey&apos;s Harbor, WI', ' Channel Islands &amp; Norwich , Other than USA', ' Channel Islands &amp; Norwich, Other than USA', ' Ca&ccedil;ador , Other than USA', ' LLangollen &amp; Wrexham , Other than USA', ' Va&apos;vau , Other than USA', ' Interstate 84 eastbound; Exit 147, OR', ' Loomis &amp; Folsom Lake, CA', ' Sullivan &amp; Fenton, MO', ' Westlake &amp; Hardy, VA', ' St. Louis, MO &amp; Columbia, IL, MO', ' Safford &amp; Duncan , AZ', ' Bolivar - 170th &amp; 326th Road junction, MO', ' Po&apos;ipu, HI', ' Sullivan&apos;s Island, SC', ' Colle D&apos;Valle Delsa/ Scorgiono , Other than USA', ' On highway; location unknown, WY', ' Rzesz&oacute;w , Other than USA', ' Dingman&apos;s Ferry, PA', ' Phenix City &amp; Columbus,Ga, AL', ' Donja Pu&scaron;a , Other than USA', ' Between Orlando &amp; Daytona, FL', ' Klaksv&iacute;k , Other than USA', ' Angleton &amp; Pearland , TX', ' Butte &amp; Bozeman , MT', ' New York City; City Island , NY', ' Ouj&eacute; Bougoumou , QC', ' L&apos;Anse , MI', ' St. Paul&apos;s area, NC', ' Brunne, H&auml;rn&ouml;sand , Other than USA', ' Ka&apos;anapali, HI', ' Maca&eacute; , Other than USA', ' Interstate 80/I-76;  into Colorado begins  NE', ' Reykjav&iacute;k , Other than USA', ' Smith&apos;s Ferry, ID', ' Hiller&oslash;d , Other than USA', ' St. Paul&apos;s, NC', ' Brentwood Short&apos;s Lake , NS', ' Pa&apos;akai Point- Mamalahoha Hwy, HI', ' Cooper&apos;s Rock, WV']\n",
            "< []\n",
            "= []\n",
            "> []\n",
            "? []\n",
            "@ [' Tuskegee National Forest @ HWY 85, AL', ' Woodburn  on I-5 North @mile post 265, OR', ' Fernley @ Intersate 80 West, NV']\n",
            "[ []\n",
            "\\ []\n",
            "] []\n",
            "^ []\n",
            "_ []\n",
            "` [' Ithaca`, NY', ' Savannah`, GA', ' Reading`, PA']\n",
            "{ [' Columbia River { mile marker 230}, WA', ' Keasbey {Woodbridge}, NJ']\n",
            "| []\n",
            "} [' Columbia River { mile marker 230}, WA', ' Keasbey {Woodbridge}, NJ']\n",
            "~ []\n"
          ],
          "name": "stdout"
        }
      ]
    },
    {
      "cell_type": "code",
      "metadata": {
        "id": "FGCNHTwKrKNW"
      },
      "source": [
        "df[\"temp\"] = df[\"State\"].apply(lambda x: x[:x.find(\"(\")] + x[x.find(\")\") + 1:] if x.find(\"(\") != -1 and x.find(\")\") != -1 else x)"
      ],
      "execution_count": 268,
      "outputs": []
    },
    {
      "cell_type": "code",
      "metadata": {
        "id": "I7Z9sYvevUGn"
      },
      "source": [
        "df[\"temp\"] = df[\"temp\"].apply(lambda x: x[:x.find(\"(\")] + x[x.find(\")\") + 1:] if x.find(\"(\") != -1 and x.find(\")\") != -1 else x)"
      ],
      "execution_count": 273,
      "outputs": []
    },
    {
      "cell_type": "code",
      "metadata": {
        "id": "ws3sYUe_uQBV"
      },
      "source": [
        "df[\"temp\"] = df[\"temp\"].apply(lambda x: x + \" Other than USA\" if x[-2:].isalpha() == False else x)"
      ],
      "execution_count": 270,
      "outputs": []
    },
    {
      "cell_type": "code",
      "metadata": {
        "id": "b9ULV7yDwSJH"
      },
      "source": [
        "df[\"temp\"] = df[\"temp\"].apply(lambda x: x.replace(\"?\",\" Not certain \"))"
      ],
      "execution_count": 271,
      "outputs": []
    },
    {
      "cell_type": "code",
      "metadata": {
        "id": "1KLrNF-uxRrv"
      },
      "source": [
        "df[\"temp\"] = df[\"temp\"].apply(lambda x: x[:x.find(\"(\")] + x[x.rfind(\",\") + 1:] if x.find(\"(\") != -1 and x.rfind(\",\") != -1 else x)"
      ],
      "execution_count": 276,
      "outputs": []
    },
    {
      "cell_type": "code",
      "metadata": {
        "id": "4Hk2qYTOyKbk"
      },
      "source": [
        "df[\"temp\"] = df[\"temp\"].apply(lambda x: x.replace(\")\",\"\"))"
      ],
      "execution_count": 278,
      "outputs": []
    }
  ]
}